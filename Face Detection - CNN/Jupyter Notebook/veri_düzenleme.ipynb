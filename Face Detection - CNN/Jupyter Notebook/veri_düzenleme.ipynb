{
 "cells": [
  {
   "cell_type": "code",
   "execution_count": null,
   "id": "cfd2d21e",
   "metadata": {},
   "outputs": [
    {
     "name": "stdout",
     "output_type": "stream",
     "text": [
      "1000017089.jpg --> Kübra1.jpg\n",
      "1000017092.jpg --> Kübra2.jpg\n",
      "1000017096.jpg --> Kübra3.jpg\n",
      "1000017099.jpg --> Kübra4.jpg\n",
      "1000017100.jpg --> Kübra5.jpg\n",
      "Tüm görseller yeniden adlandırıldı.\n"
     ]
    }
   ],
   "source": [
    "import os\n",
    "\n",
    "klasor_yolu = r\"X\"  # klasör yolunu kendi bilgisayarına göre ayarla\n",
    "yeni_isim = \"Y\"  # ortak isim kökü\n",
    "sayac = 1 \n",
    "\n",
    "uzantilar = [\".jpg\", \".jpeg\", \".png\"]\n",
    "\n",
    "for dosya in os.listdir(klasor_yolu):\n",
    "    dosya_yolu = os.path.join(klasor_yolu, dosya)\n",
    "    \n",
    "    if os.path.isfile(dosya_yolu):  \n",
    "        _, uzanti = os.path.splitext(dosya)\n",
    "        if uzanti.lower() in uzantilar:\n",
    "            yeni_dosya_adi = f\"{yeni_isim}{sayac}{uzanti}\"\n",
    "            yeni_dosya_yolu = os.path.join(klasor_yolu, yeni_dosya_adi)\n",
    "            \n",
    "            os.rename(dosya_yolu, yeni_dosya_yolu)\n",
    "            print(f\"{dosya} --> {yeni_dosya_adi}\")\n",
    "            sayac += 1\n",
    "\n",
    "print(\"Tüm görseller yeniden adlandırıldı.\")\n"
   ]
  },
  {
   "cell_type": "markdown",
   "id": "03fca12d",
   "metadata": {},
   "source": [
    "## 1. AUG"
   ]
  },
  {
   "cell_type": "code",
   "execution_count": null,
   "id": "d9abf3d4",
   "metadata": {},
   "outputs": [
    {
     "name": "stdout",
     "output_type": "stream",
     "text": [
      "Processing class: Emine\n"
     ]
    },
    {
     "name": "stderr",
     "output_type": "stream",
     "text": [
      "Emine:   0%|          | 0/5 [00:00<?, ?it/s]"
     ]
    },
    {
     "name": "stderr",
     "output_type": "stream",
     "text": [
      "Emine:  20%|██        | 1/5 [00:01<00:04,  1.03s/it]"
     ]
    },
    {
     "name": "stdout",
     "output_type": "stream",
     "text": [
      "Saved with PIL: C:\\Users\\huseyindogan\\Desktop\\FACE\\1.Augmentation\\Emine\\Emine1_canny.jpg\n",
      "Saved with PIL: C:\\Users\\huseyindogan\\Desktop\\FACE\\1.Augmentation\\Emine\\Emine1_sobel.jpg\n",
      "Saved with PIL: C:\\Users\\huseyindogan\\Desktop\\FACE\\1.Augmentation\\Emine\\Emine1_laplacian.jpg\n",
      "Saved with PIL: C:\\Users\\huseyindogan\\Desktop\\FACE\\1.Augmentation\\Emine\\Emine1_emboss.jpg\n",
      "Saved with PIL: C:\\Users\\huseyindogan\\Desktop\\FACE\\1.Augmentation\\Emine\\Emine1_sharpen.jpg\n",
      "Saved with PIL: C:\\Users\\huseyindogan\\Desktop\\FACE\\1.Augmentation\\Emine\\Emine1_blur.jpg\n"
     ]
    },
    {
     "name": "stderr",
     "output_type": "stream",
     "text": [
      "Emine:  40%|████      | 2/5 [00:02<00:03,  1.04s/it]"
     ]
    },
    {
     "name": "stdout",
     "output_type": "stream",
     "text": [
      "Saved with PIL: C:\\Users\\huseyindogan\\Desktop\\FACE\\1.Augmentation\\Emine\\Emine2_canny.jpg\n",
      "Saved with PIL: C:\\Users\\huseyindogan\\Desktop\\FACE\\1.Augmentation\\Emine\\Emine2_sobel.jpg\n",
      "Saved with PIL: C:\\Users\\huseyindogan\\Desktop\\FACE\\1.Augmentation\\Emine\\Emine2_laplacian.jpg\n",
      "Saved with PIL: C:\\Users\\huseyindogan\\Desktop\\FACE\\1.Augmentation\\Emine\\Emine2_emboss.jpg\n",
      "Saved with PIL: C:\\Users\\huseyindogan\\Desktop\\FACE\\1.Augmentation\\Emine\\Emine2_sharpen.jpg\n",
      "Saved with PIL: C:\\Users\\huseyindogan\\Desktop\\FACE\\1.Augmentation\\Emine\\Emine2_blur.jpg\n"
     ]
    },
    {
     "name": "stderr",
     "output_type": "stream",
     "text": [
      "Emine:  60%|██████    | 3/5 [00:03<00:02,  1.04s/it]"
     ]
    },
    {
     "name": "stdout",
     "output_type": "stream",
     "text": [
      "Saved with PIL: C:\\Users\\huseyindogan\\Desktop\\FACE\\1.Augmentation\\Emine\\Emine3_canny.jpg\n",
      "Saved with PIL: C:\\Users\\huseyindogan\\Desktop\\FACE\\1.Augmentation\\Emine\\Emine3_sobel.jpg\n",
      "Saved with PIL: C:\\Users\\huseyindogan\\Desktop\\FACE\\1.Augmentation\\Emine\\Emine3_laplacian.jpg\n",
      "Saved with PIL: C:\\Users\\huseyindogan\\Desktop\\FACE\\1.Augmentation\\Emine\\Emine3_emboss.jpg\n",
      "Saved with PIL: C:\\Users\\huseyindogan\\Desktop\\FACE\\1.Augmentation\\Emine\\Emine3_sharpen.jpg\n",
      "Saved with PIL: C:\\Users\\huseyindogan\\Desktop\\FACE\\1.Augmentation\\Emine\\Emine3_blur.jpg\n"
     ]
    },
    {
     "name": "stderr",
     "output_type": "stream",
     "text": [
      "Emine:  80%|████████  | 4/5 [00:03<00:00,  1.08it/s]"
     ]
    },
    {
     "name": "stdout",
     "output_type": "stream",
     "text": [
      "Saved with PIL: C:\\Users\\huseyindogan\\Desktop\\FACE\\1.Augmentation\\Emine\\Emine4_canny.jpg\n",
      "Saved with PIL: C:\\Users\\huseyindogan\\Desktop\\FACE\\1.Augmentation\\Emine\\Emine4_sobel.jpg\n",
      "Saved with PIL: C:\\Users\\huseyindogan\\Desktop\\FACE\\1.Augmentation\\Emine\\Emine4_laplacian.jpg\n",
      "Saved with PIL: C:\\Users\\huseyindogan\\Desktop\\FACE\\1.Augmentation\\Emine\\Emine4_emboss.jpg\n",
      "Saved with PIL: C:\\Users\\huseyindogan\\Desktop\\FACE\\1.Augmentation\\Emine\\Emine4_sharpen.jpg\n",
      "Saved with PIL: C:\\Users\\huseyindogan\\Desktop\\FACE\\1.Augmentation\\Emine\\Emine4_blur.jpg\n"
     ]
    },
    {
     "name": "stderr",
     "output_type": "stream",
     "text": [
      "Emine: 100%|██████████| 5/5 [00:04<00:00,  1.01it/s]\n"
     ]
    },
    {
     "name": "stdout",
     "output_type": "stream",
     "text": [
      "Saved with PIL: C:\\Users\\huseyindogan\\Desktop\\FACE\\1.Augmentation\\Emine\\Emine5_canny.jpg\n",
      "Saved with PIL: C:\\Users\\huseyindogan\\Desktop\\FACE\\1.Augmentation\\Emine\\Emine5_sobel.jpg\n",
      "Saved with PIL: C:\\Users\\huseyindogan\\Desktop\\FACE\\1.Augmentation\\Emine\\Emine5_laplacian.jpg\n",
      "Saved with PIL: C:\\Users\\huseyindogan\\Desktop\\FACE\\1.Augmentation\\Emine\\Emine5_emboss.jpg\n",
      "Saved with PIL: C:\\Users\\huseyindogan\\Desktop\\FACE\\1.Augmentation\\Emine\\Emine5_sharpen.jpg\n",
      "Saved with PIL: C:\\Users\\huseyindogan\\Desktop\\FACE\\1.Augmentation\\Emine\\Emine5_blur.jpg\n",
      "Processing class: Hüseyin\n"
     ]
    },
    {
     "name": "stderr",
     "output_type": "stream",
     "text": [
      "Hüseyin:  20%|██        | 1/5 [00:01<00:04,  1.12s/it]"
     ]
    },
    {
     "name": "stdout",
     "output_type": "stream",
     "text": [
      "Saved with PIL: C:\\Users\\huseyindogan\\Desktop\\FACE\\1.Augmentation\\Hüseyin\\Hüseyin1_canny.jpg\n",
      "Saved with PIL: C:\\Users\\huseyindogan\\Desktop\\FACE\\1.Augmentation\\Hüseyin\\Hüseyin1_sobel.jpg\n",
      "Saved with PIL: C:\\Users\\huseyindogan\\Desktop\\FACE\\1.Augmentation\\Hüseyin\\Hüseyin1_laplacian.jpg\n",
      "Saved with PIL: C:\\Users\\huseyindogan\\Desktop\\FACE\\1.Augmentation\\Hüseyin\\Hüseyin1_emboss.jpg\n",
      "Saved with PIL: C:\\Users\\huseyindogan\\Desktop\\FACE\\1.Augmentation\\Hüseyin\\Hüseyin1_sharpen.jpg\n",
      "Saved with PIL: C:\\Users\\huseyindogan\\Desktop\\FACE\\1.Augmentation\\Hüseyin\\Hüseyin1_blur.jpg\n"
     ]
    },
    {
     "name": "stderr",
     "output_type": "stream",
     "text": [
      "Hüseyin:  40%|████      | 2/5 [00:02<00:03,  1.13s/it]"
     ]
    },
    {
     "name": "stdout",
     "output_type": "stream",
     "text": [
      "Saved with PIL: C:\\Users\\huseyindogan\\Desktop\\FACE\\1.Augmentation\\Hüseyin\\Hüseyin2_canny.jpg\n",
      "Saved with PIL: C:\\Users\\huseyindogan\\Desktop\\FACE\\1.Augmentation\\Hüseyin\\Hüseyin2_sobel.jpg\n",
      "Saved with PIL: C:\\Users\\huseyindogan\\Desktop\\FACE\\1.Augmentation\\Hüseyin\\Hüseyin2_laplacian.jpg\n",
      "Saved with PIL: C:\\Users\\huseyindogan\\Desktop\\FACE\\1.Augmentation\\Hüseyin\\Hüseyin2_emboss.jpg\n",
      "Saved with PIL: C:\\Users\\huseyindogan\\Desktop\\FACE\\1.Augmentation\\Hüseyin\\Hüseyin2_sharpen.jpg\n",
      "Saved with PIL: C:\\Users\\huseyindogan\\Desktop\\FACE\\1.Augmentation\\Hüseyin\\Hüseyin2_blur.jpg\n"
     ]
    },
    {
     "name": "stderr",
     "output_type": "stream",
     "text": [
      "Hüseyin:  60%|██████    | 3/5 [00:03<00:02,  1.10s/it]"
     ]
    },
    {
     "name": "stdout",
     "output_type": "stream",
     "text": [
      "Saved with PIL: C:\\Users\\huseyindogan\\Desktop\\FACE\\1.Augmentation\\Hüseyin\\Hüseyin3_canny.jpg\n",
      "Saved with PIL: C:\\Users\\huseyindogan\\Desktop\\FACE\\1.Augmentation\\Hüseyin\\Hüseyin3_sobel.jpg\n",
      "Saved with PIL: C:\\Users\\huseyindogan\\Desktop\\FACE\\1.Augmentation\\Hüseyin\\Hüseyin3_laplacian.jpg\n",
      "Saved with PIL: C:\\Users\\huseyindogan\\Desktop\\FACE\\1.Augmentation\\Hüseyin\\Hüseyin3_emboss.jpg\n",
      "Saved with PIL: C:\\Users\\huseyindogan\\Desktop\\FACE\\1.Augmentation\\Hüseyin\\Hüseyin3_sharpen.jpg\n",
      "Saved with PIL: C:\\Users\\huseyindogan\\Desktop\\FACE\\1.Augmentation\\Hüseyin\\Hüseyin3_blur.jpg\n"
     ]
    },
    {
     "name": "stderr",
     "output_type": "stream",
     "text": [
      "Hüseyin:  80%|████████  | 4/5 [00:04<00:01,  1.08s/it]"
     ]
    },
    {
     "name": "stdout",
     "output_type": "stream",
     "text": [
      "Saved with PIL: C:\\Users\\huseyindogan\\Desktop\\FACE\\1.Augmentation\\Hüseyin\\Hüseyin4_canny.jpg\n",
      "Saved with PIL: C:\\Users\\huseyindogan\\Desktop\\FACE\\1.Augmentation\\Hüseyin\\Hüseyin4_sobel.jpg\n",
      "Saved with PIL: C:\\Users\\huseyindogan\\Desktop\\FACE\\1.Augmentation\\Hüseyin\\Hüseyin4_laplacian.jpg\n",
      "Saved with PIL: C:\\Users\\huseyindogan\\Desktop\\FACE\\1.Augmentation\\Hüseyin\\Hüseyin4_emboss.jpg\n",
      "Saved with PIL: C:\\Users\\huseyindogan\\Desktop\\FACE\\1.Augmentation\\Hüseyin\\Hüseyin4_sharpen.jpg\n",
      "Saved with PIL: C:\\Users\\huseyindogan\\Desktop\\FACE\\1.Augmentation\\Hüseyin\\Hüseyin4_blur.jpg\n"
     ]
    },
    {
     "name": "stderr",
     "output_type": "stream",
     "text": [
      "Hüseyin: 100%|██████████| 5/5 [00:05<00:00,  1.08s/it]\n"
     ]
    },
    {
     "name": "stdout",
     "output_type": "stream",
     "text": [
      "Saved with PIL: C:\\Users\\huseyindogan\\Desktop\\FACE\\1.Augmentation\\Hüseyin\\Hüseyin5_canny.jpg\n",
      "Saved with PIL: C:\\Users\\huseyindogan\\Desktop\\FACE\\1.Augmentation\\Hüseyin\\Hüseyin5_sobel.jpg\n",
      "Saved with PIL: C:\\Users\\huseyindogan\\Desktop\\FACE\\1.Augmentation\\Hüseyin\\Hüseyin5_laplacian.jpg\n",
      "Saved with PIL: C:\\Users\\huseyindogan\\Desktop\\FACE\\1.Augmentation\\Hüseyin\\Hüseyin5_emboss.jpg\n",
      "Saved with PIL: C:\\Users\\huseyindogan\\Desktop\\FACE\\1.Augmentation\\Hüseyin\\Hüseyin5_sharpen.jpg\n",
      "Saved with PIL: C:\\Users\\huseyindogan\\Desktop\\FACE\\1.Augmentation\\Hüseyin\\Hüseyin5_blur.jpg\n",
      "Processing class: Kübra\n"
     ]
    },
    {
     "name": "stderr",
     "output_type": "stream",
     "text": [
      "Kübra:  20%|██        | 1/5 [00:01<00:05,  1.28s/it]"
     ]
    },
    {
     "name": "stdout",
     "output_type": "stream",
     "text": [
      "Saved with PIL: C:\\Users\\huseyindogan\\Desktop\\FACE\\1.Augmentation\\Kübra\\Kübra1_canny.jpg\n",
      "Saved with PIL: C:\\Users\\huseyindogan\\Desktop\\FACE\\1.Augmentation\\Kübra\\Kübra1_sobel.jpg\n",
      "Saved with PIL: C:\\Users\\huseyindogan\\Desktop\\FACE\\1.Augmentation\\Kübra\\Kübra1_laplacian.jpg\n",
      "Saved with PIL: C:\\Users\\huseyindogan\\Desktop\\FACE\\1.Augmentation\\Kübra\\Kübra1_emboss.jpg\n",
      "Saved with PIL: C:\\Users\\huseyindogan\\Desktop\\FACE\\1.Augmentation\\Kübra\\Kübra1_sharpen.jpg\n",
      "Saved with PIL: C:\\Users\\huseyindogan\\Desktop\\FACE\\1.Augmentation\\Kübra\\Kübra1_blur.jpg\n"
     ]
    },
    {
     "name": "stderr",
     "output_type": "stream",
     "text": [
      "Kübra:  40%|████      | 2/5 [00:02<00:03,  1.10s/it]"
     ]
    },
    {
     "name": "stdout",
     "output_type": "stream",
     "text": [
      "Saved with PIL: C:\\Users\\huseyindogan\\Desktop\\FACE\\1.Augmentation\\Kübra\\Kübra2_canny.jpg\n",
      "Saved with PIL: C:\\Users\\huseyindogan\\Desktop\\FACE\\1.Augmentation\\Kübra\\Kübra2_sobel.jpg\n",
      "Saved with PIL: C:\\Users\\huseyindogan\\Desktop\\FACE\\1.Augmentation\\Kübra\\Kübra2_laplacian.jpg\n",
      "Saved with PIL: C:\\Users\\huseyindogan\\Desktop\\FACE\\1.Augmentation\\Kübra\\Kübra2_emboss.jpg\n",
      "Saved with PIL: C:\\Users\\huseyindogan\\Desktop\\FACE\\1.Augmentation\\Kübra\\Kübra2_sharpen.jpg\n",
      "Saved with PIL: C:\\Users\\huseyindogan\\Desktop\\FACE\\1.Augmentation\\Kübra\\Kübra2_blur.jpg\n"
     ]
    },
    {
     "name": "stderr",
     "output_type": "stream",
     "text": [
      "Kübra:  60%|██████    | 3/5 [00:03<00:02,  1.11s/it]"
     ]
    },
    {
     "name": "stdout",
     "output_type": "stream",
     "text": [
      "Saved with PIL: C:\\Users\\huseyindogan\\Desktop\\FACE\\1.Augmentation\\Kübra\\Kübra3_canny.jpg\n",
      "Saved with PIL: C:\\Users\\huseyindogan\\Desktop\\FACE\\1.Augmentation\\Kübra\\Kübra3_sobel.jpg\n",
      "Saved with PIL: C:\\Users\\huseyindogan\\Desktop\\FACE\\1.Augmentation\\Kübra\\Kübra3_laplacian.jpg\n",
      "Saved with PIL: C:\\Users\\huseyindogan\\Desktop\\FACE\\1.Augmentation\\Kübra\\Kübra3_emboss.jpg\n",
      "Saved with PIL: C:\\Users\\huseyindogan\\Desktop\\FACE\\1.Augmentation\\Kübra\\Kübra3_sharpen.jpg\n",
      "Saved with PIL: C:\\Users\\huseyindogan\\Desktop\\FACE\\1.Augmentation\\Kübra\\Kübra3_blur.jpg\n"
     ]
    },
    {
     "name": "stderr",
     "output_type": "stream",
     "text": [
      "Kübra:  80%|████████  | 4/5 [00:04<00:01,  1.04s/it]"
     ]
    },
    {
     "name": "stdout",
     "output_type": "stream",
     "text": [
      "Saved with PIL: C:\\Users\\huseyindogan\\Desktop\\FACE\\1.Augmentation\\Kübra\\Kübra4_canny.jpg\n",
      "Saved with PIL: C:\\Users\\huseyindogan\\Desktop\\FACE\\1.Augmentation\\Kübra\\Kübra4_sobel.jpg\n",
      "Saved with PIL: C:\\Users\\huseyindogan\\Desktop\\FACE\\1.Augmentation\\Kübra\\Kübra4_laplacian.jpg\n",
      "Saved with PIL: C:\\Users\\huseyindogan\\Desktop\\FACE\\1.Augmentation\\Kübra\\Kübra4_emboss.jpg\n",
      "Saved with PIL: C:\\Users\\huseyindogan\\Desktop\\FACE\\1.Augmentation\\Kübra\\Kübra4_sharpen.jpg\n",
      "Saved with PIL: C:\\Users\\huseyindogan\\Desktop\\FACE\\1.Augmentation\\Kübra\\Kübra4_blur.jpg\n"
     ]
    },
    {
     "name": "stderr",
     "output_type": "stream",
     "text": [
      "Kübra: 100%|██████████| 5/5 [00:05<00:00,  1.10s/it]\n"
     ]
    },
    {
     "name": "stdout",
     "output_type": "stream",
     "text": [
      "Saved with PIL: C:\\Users\\huseyindogan\\Desktop\\FACE\\1.Augmentation\\Kübra\\Kübra5_canny.jpg\n",
      "Saved with PIL: C:\\Users\\huseyindogan\\Desktop\\FACE\\1.Augmentation\\Kübra\\Kübra5_sobel.jpg\n",
      "Saved with PIL: C:\\Users\\huseyindogan\\Desktop\\FACE\\1.Augmentation\\Kübra\\Kübra5_laplacian.jpg\n",
      "Saved with PIL: C:\\Users\\huseyindogan\\Desktop\\FACE\\1.Augmentation\\Kübra\\Kübra5_emboss.jpg\n",
      "Saved with PIL: C:\\Users\\huseyindogan\\Desktop\\FACE\\1.Augmentation\\Kübra\\Kübra5_sharpen.jpg\n",
      "Saved with PIL: C:\\Users\\huseyindogan\\Desktop\\FACE\\1.Augmentation\\Kübra\\Kübra5_blur.jpg\n",
      "Processing class: MuratHoca\n"
     ]
    },
    {
     "name": "stderr",
     "output_type": "stream",
     "text": [
      "MuratHoca:   8%|▊         | 1/12 [00:00<00:10,  1.07it/s]"
     ]
    },
    {
     "name": "stdout",
     "output_type": "stream",
     "text": [
      "Saved with PIL: C:\\Users\\huseyindogan\\Desktop\\FACE\\1.Augmentation\\MuratHoca\\murat_hoca1_canny.jpg\n",
      "Saved with PIL: C:\\Users\\huseyindogan\\Desktop\\FACE\\1.Augmentation\\MuratHoca\\murat_hoca1_sobel.jpg\n",
      "Saved with PIL: C:\\Users\\huseyindogan\\Desktop\\FACE\\1.Augmentation\\MuratHoca\\murat_hoca1_laplacian.jpg\n",
      "Saved with PIL: C:\\Users\\huseyindogan\\Desktop\\FACE\\1.Augmentation\\MuratHoca\\murat_hoca1_emboss.jpg\n",
      "Saved with PIL: C:\\Users\\huseyindogan\\Desktop\\FACE\\1.Augmentation\\MuratHoca\\murat_hoca1_sharpen.jpg\n",
      "Saved with PIL: C:\\Users\\huseyindogan\\Desktop\\FACE\\1.Augmentation\\MuratHoca\\murat_hoca1_blur.jpg\n"
     ]
    },
    {
     "name": "stderr",
     "output_type": "stream",
     "text": [
      "MuratHoca:  17%|█▋        | 2/12 [00:01<00:09,  1.03it/s]"
     ]
    },
    {
     "name": "stdout",
     "output_type": "stream",
     "text": [
      "Saved with PIL: C:\\Users\\huseyindogan\\Desktop\\FACE\\1.Augmentation\\MuratHoca\\murat_hoca10_canny.jpg\n",
      "Saved with PIL: C:\\Users\\huseyindogan\\Desktop\\FACE\\1.Augmentation\\MuratHoca\\murat_hoca10_sobel.jpg\n",
      "Saved with PIL: C:\\Users\\huseyindogan\\Desktop\\FACE\\1.Augmentation\\MuratHoca\\murat_hoca10_laplacian.jpg\n",
      "Saved with PIL: C:\\Users\\huseyindogan\\Desktop\\FACE\\1.Augmentation\\MuratHoca\\murat_hoca10_emboss.jpg\n",
      "Saved with PIL: C:\\Users\\huseyindogan\\Desktop\\FACE\\1.Augmentation\\MuratHoca\\murat_hoca10_sharpen.jpg\n",
      "Saved with PIL: C:\\Users\\huseyindogan\\Desktop\\FACE\\1.Augmentation\\MuratHoca\\murat_hoca10_blur.jpg\n"
     ]
    },
    {
     "name": "stderr",
     "output_type": "stream",
     "text": [
      "MuratHoca:  25%|██▌       | 3/12 [00:02<00:08,  1.01it/s]"
     ]
    },
    {
     "name": "stdout",
     "output_type": "stream",
     "text": [
      "Saved with PIL: C:\\Users\\huseyindogan\\Desktop\\FACE\\1.Augmentation\\MuratHoca\\murat_hoca11_canny.jpg\n",
      "Saved with PIL: C:\\Users\\huseyindogan\\Desktop\\FACE\\1.Augmentation\\MuratHoca\\murat_hoca11_sobel.jpg\n",
      "Saved with PIL: C:\\Users\\huseyindogan\\Desktop\\FACE\\1.Augmentation\\MuratHoca\\murat_hoca11_laplacian.jpg\n",
      "Saved with PIL: C:\\Users\\huseyindogan\\Desktop\\FACE\\1.Augmentation\\MuratHoca\\murat_hoca11_emboss.jpg\n",
      "Saved with PIL: C:\\Users\\huseyindogan\\Desktop\\FACE\\1.Augmentation\\MuratHoca\\murat_hoca11_sharpen.jpg\n",
      "Saved with PIL: C:\\Users\\huseyindogan\\Desktop\\FACE\\1.Augmentation\\MuratHoca\\murat_hoca11_blur.jpg\n"
     ]
    },
    {
     "name": "stderr",
     "output_type": "stream",
     "text": [
      "MuratHoca:  33%|███▎      | 4/12 [00:03<00:08,  1.01s/it]"
     ]
    },
    {
     "name": "stdout",
     "output_type": "stream",
     "text": [
      "Saved with PIL: C:\\Users\\huseyindogan\\Desktop\\FACE\\1.Augmentation\\MuratHoca\\murat_hoca12_canny.jpg\n",
      "Saved with PIL: C:\\Users\\huseyindogan\\Desktop\\FACE\\1.Augmentation\\MuratHoca\\murat_hoca12_sobel.jpg\n",
      "Saved with PIL: C:\\Users\\huseyindogan\\Desktop\\FACE\\1.Augmentation\\MuratHoca\\murat_hoca12_laplacian.jpg\n",
      "Saved with PIL: C:\\Users\\huseyindogan\\Desktop\\FACE\\1.Augmentation\\MuratHoca\\murat_hoca12_emboss.jpg\n",
      "Saved with PIL: C:\\Users\\huseyindogan\\Desktop\\FACE\\1.Augmentation\\MuratHoca\\murat_hoca12_sharpen.jpg\n",
      "Saved with PIL: C:\\Users\\huseyindogan\\Desktop\\FACE\\1.Augmentation\\MuratHoca\\murat_hoca12_blur.jpg\n"
     ]
    },
    {
     "name": "stderr",
     "output_type": "stream",
     "text": [
      "MuratHoca:  42%|████▏     | 5/12 [00:05<00:08,  1.15s/it]"
     ]
    },
    {
     "name": "stdout",
     "output_type": "stream",
     "text": [
      "Saved with PIL: C:\\Users\\huseyindogan\\Desktop\\FACE\\1.Augmentation\\MuratHoca\\murat_hoca2_canny.jpg\n",
      "Saved with PIL: C:\\Users\\huseyindogan\\Desktop\\FACE\\1.Augmentation\\MuratHoca\\murat_hoca2_sobel.jpg\n",
      "Saved with PIL: C:\\Users\\huseyindogan\\Desktop\\FACE\\1.Augmentation\\MuratHoca\\murat_hoca2_laplacian.jpg\n",
      "Saved with PIL: C:\\Users\\huseyindogan\\Desktop\\FACE\\1.Augmentation\\MuratHoca\\murat_hoca2_emboss.jpg\n",
      "Saved with PIL: C:\\Users\\huseyindogan\\Desktop\\FACE\\1.Augmentation\\MuratHoca\\murat_hoca2_sharpen.jpg\n",
      "Saved with PIL: C:\\Users\\huseyindogan\\Desktop\\FACE\\1.Augmentation\\MuratHoca\\murat_hoca2_blur.jpg\n"
     ]
    },
    {
     "name": "stderr",
     "output_type": "stream",
     "text": [
      "MuratHoca:  50%|█████     | 6/12 [00:06<00:06,  1.13s/it]"
     ]
    },
    {
     "name": "stdout",
     "output_type": "stream",
     "text": [
      "Saved with PIL: C:\\Users\\huseyindogan\\Desktop\\FACE\\1.Augmentation\\MuratHoca\\murat_hoca3_canny.jpg\n",
      "Saved with PIL: C:\\Users\\huseyindogan\\Desktop\\FACE\\1.Augmentation\\MuratHoca\\murat_hoca3_sobel.jpg\n",
      "Saved with PIL: C:\\Users\\huseyindogan\\Desktop\\FACE\\1.Augmentation\\MuratHoca\\murat_hoca3_laplacian.jpg\n",
      "Saved with PIL: C:\\Users\\huseyindogan\\Desktop\\FACE\\1.Augmentation\\MuratHoca\\murat_hoca3_emboss.jpg\n",
      "Saved with PIL: C:\\Users\\huseyindogan\\Desktop\\FACE\\1.Augmentation\\MuratHoca\\murat_hoca3_sharpen.jpg\n",
      "Saved with PIL: C:\\Users\\huseyindogan\\Desktop\\FACE\\1.Augmentation\\MuratHoca\\murat_hoca3_blur.jpg\n"
     ]
    },
    {
     "name": "stderr",
     "output_type": "stream",
     "text": [
      "MuratHoca:  58%|█████▊    | 7/12 [00:07<00:05,  1.12s/it]"
     ]
    },
    {
     "name": "stdout",
     "output_type": "stream",
     "text": [
      "Saved with PIL: C:\\Users\\huseyindogan\\Desktop\\FACE\\1.Augmentation\\MuratHoca\\murat_hoca4_canny.jpg\n",
      "Saved with PIL: C:\\Users\\huseyindogan\\Desktop\\FACE\\1.Augmentation\\MuratHoca\\murat_hoca4_sobel.jpg\n",
      "Saved with PIL: C:\\Users\\huseyindogan\\Desktop\\FACE\\1.Augmentation\\MuratHoca\\murat_hoca4_laplacian.jpg\n",
      "Saved with PIL: C:\\Users\\huseyindogan\\Desktop\\FACE\\1.Augmentation\\MuratHoca\\murat_hoca4_emboss.jpg\n",
      "Saved with PIL: C:\\Users\\huseyindogan\\Desktop\\FACE\\1.Augmentation\\MuratHoca\\murat_hoca4_sharpen.jpg\n",
      "Saved with PIL: C:\\Users\\huseyindogan\\Desktop\\FACE\\1.Augmentation\\MuratHoca\\murat_hoca4_blur.jpg\n"
     ]
    },
    {
     "name": "stderr",
     "output_type": "stream",
     "text": [
      "MuratHoca:  67%|██████▋   | 8/12 [00:08<00:04,  1.16s/it]"
     ]
    },
    {
     "name": "stdout",
     "output_type": "stream",
     "text": [
      "Saved with PIL: C:\\Users\\huseyindogan\\Desktop\\FACE\\1.Augmentation\\MuratHoca\\murat_hoca5_canny.jpg\n",
      "Saved with PIL: C:\\Users\\huseyindogan\\Desktop\\FACE\\1.Augmentation\\MuratHoca\\murat_hoca5_sobel.jpg\n",
      "Saved with PIL: C:\\Users\\huseyindogan\\Desktop\\FACE\\1.Augmentation\\MuratHoca\\murat_hoca5_laplacian.jpg\n",
      "Saved with PIL: C:\\Users\\huseyindogan\\Desktop\\FACE\\1.Augmentation\\MuratHoca\\murat_hoca5_emboss.jpg\n",
      "Saved with PIL: C:\\Users\\huseyindogan\\Desktop\\FACE\\1.Augmentation\\MuratHoca\\murat_hoca5_sharpen.jpg\n",
      "Saved with PIL: C:\\Users\\huseyindogan\\Desktop\\FACE\\1.Augmentation\\MuratHoca\\murat_hoca5_blur.jpg\n"
     ]
    },
    {
     "name": "stderr",
     "output_type": "stream",
     "text": [
      "MuratHoca:  75%|███████▌  | 9/12 [00:10<00:03,  1.24s/it]"
     ]
    },
    {
     "name": "stdout",
     "output_type": "stream",
     "text": [
      "Saved with PIL: C:\\Users\\huseyindogan\\Desktop\\FACE\\1.Augmentation\\MuratHoca\\murat_hoca6_canny.jpg\n",
      "Saved with PIL: C:\\Users\\huseyindogan\\Desktop\\FACE\\1.Augmentation\\MuratHoca\\murat_hoca6_sobel.jpg\n",
      "Saved with PIL: C:\\Users\\huseyindogan\\Desktop\\FACE\\1.Augmentation\\MuratHoca\\murat_hoca6_laplacian.jpg\n",
      "Saved with PIL: C:\\Users\\huseyindogan\\Desktop\\FACE\\1.Augmentation\\MuratHoca\\murat_hoca6_emboss.jpg\n",
      "Saved with PIL: C:\\Users\\huseyindogan\\Desktop\\FACE\\1.Augmentation\\MuratHoca\\murat_hoca6_sharpen.jpg\n",
      "Saved with PIL: C:\\Users\\huseyindogan\\Desktop\\FACE\\1.Augmentation\\MuratHoca\\murat_hoca6_blur.jpg\n"
     ]
    },
    {
     "name": "stderr",
     "output_type": "stream",
     "text": [
      "MuratHoca:  83%|████████▎ | 10/12 [00:11<00:02,  1.24s/it]"
     ]
    },
    {
     "name": "stdout",
     "output_type": "stream",
     "text": [
      "Saved with PIL: C:\\Users\\huseyindogan\\Desktop\\FACE\\1.Augmentation\\MuratHoca\\murat_hoca7_canny.jpg\n",
      "Saved with PIL: C:\\Users\\huseyindogan\\Desktop\\FACE\\1.Augmentation\\MuratHoca\\murat_hoca7_sobel.jpg\n",
      "Saved with PIL: C:\\Users\\huseyindogan\\Desktop\\FACE\\1.Augmentation\\MuratHoca\\murat_hoca7_laplacian.jpg\n",
      "Saved with PIL: C:\\Users\\huseyindogan\\Desktop\\FACE\\1.Augmentation\\MuratHoca\\murat_hoca7_emboss.jpg\n",
      "Saved with PIL: C:\\Users\\huseyindogan\\Desktop\\FACE\\1.Augmentation\\MuratHoca\\murat_hoca7_sharpen.jpg\n",
      "Saved with PIL: C:\\Users\\huseyindogan\\Desktop\\FACE\\1.Augmentation\\MuratHoca\\murat_hoca7_blur.jpg\n"
     ]
    },
    {
     "name": "stderr",
     "output_type": "stream",
     "text": [
      "MuratHoca:  92%|█████████▏| 11/12 [00:12<00:01,  1.20s/it]"
     ]
    },
    {
     "name": "stdout",
     "output_type": "stream",
     "text": [
      "Saved with PIL: C:\\Users\\huseyindogan\\Desktop\\FACE\\1.Augmentation\\MuratHoca\\murat_hoca8_canny.jpg\n",
      "Saved with PIL: C:\\Users\\huseyindogan\\Desktop\\FACE\\1.Augmentation\\MuratHoca\\murat_hoca8_sobel.jpg\n",
      "Saved with PIL: C:\\Users\\huseyindogan\\Desktop\\FACE\\1.Augmentation\\MuratHoca\\murat_hoca8_laplacian.jpg\n",
      "Saved with PIL: C:\\Users\\huseyindogan\\Desktop\\FACE\\1.Augmentation\\MuratHoca\\murat_hoca8_emboss.jpg\n",
      "Saved with PIL: C:\\Users\\huseyindogan\\Desktop\\FACE\\1.Augmentation\\MuratHoca\\murat_hoca8_sharpen.jpg\n",
      "Saved with PIL: C:\\Users\\huseyindogan\\Desktop\\FACE\\1.Augmentation\\MuratHoca\\murat_hoca8_blur.jpg\n"
     ]
    },
    {
     "name": "stderr",
     "output_type": "stream",
     "text": [
      "MuratHoca: 100%|██████████| 12/12 [00:13<00:00,  1.16s/it]"
     ]
    },
    {
     "name": "stdout",
     "output_type": "stream",
     "text": [
      "Saved with PIL: C:\\Users\\huseyindogan\\Desktop\\FACE\\1.Augmentation\\MuratHoca\\murat_hoca9_canny.jpg\n",
      "Saved with PIL: C:\\Users\\huseyindogan\\Desktop\\FACE\\1.Augmentation\\MuratHoca\\murat_hoca9_sobel.jpg\n",
      "Saved with PIL: C:\\Users\\huseyindogan\\Desktop\\FACE\\1.Augmentation\\MuratHoca\\murat_hoca9_laplacian.jpg\n",
      "Saved with PIL: C:\\Users\\huseyindogan\\Desktop\\FACE\\1.Augmentation\\MuratHoca\\murat_hoca9_emboss.jpg\n",
      "Saved with PIL: C:\\Users\\huseyindogan\\Desktop\\FACE\\1.Augmentation\\MuratHoca\\murat_hoca9_sharpen.jpg\n",
      "Saved with PIL: C:\\Users\\huseyindogan\\Desktop\\FACE\\1.Augmentation\\MuratHoca\\murat_hoca9_blur.jpg\n"
     ]
    },
    {
     "name": "stderr",
     "output_type": "stream",
     "text": [
      "\n"
     ]
    }
   ],
   "source": [
    "import os\n",
    "import numpy as np\n",
    "from PIL import Image, ImageOps\n",
    "import cv2\n",
    "from tqdm import tqdm\n",
    "\n",
    "# Giriş ve çıkış klasörleri\n",
    "input_dir = r\"X\"\n",
    "output_dir = r\"X_AUG\"\n",
    "img_size = (240, 240)\n",
    "\n",
    "# Görsel normalize etme fonksiyonu\n",
    "def normalize_img(img):\n",
    "    img = img.astype(np.float32)\n",
    "    img = img - img.min()\n",
    "    if img.max() != 0:\n",
    "        img = img / img.max()\n",
    "    img = (img * 255).astype(np.uint8)\n",
    "    return img\n",
    "\n",
    "# Farklı filtreleri uygula\n",
    "def apply_filters(img_np):\n",
    "    filters = {}\n",
    "\n",
    "    filters['canny'] = cv2.Canny(img_np, 100, 200)\n",
    "\n",
    "    gray = cv2.cvtColor(img_np, cv2.COLOR_RGB2GRAY)\n",
    "    filters['sobel'] = cv2.Sobel(gray, cv2.CV_64F, 1, 0, ksize=5)\n",
    "    filters['laplacian'] = cv2.Laplacian(gray, cv2.CV_64F)\n",
    "\n",
    "    emboss_kernel = np.array([[ -2, -1, 0],\n",
    "                              [ -1,  1, 1],\n",
    "                              [  0,  1, 2]])\n",
    "    filters['emboss'] = cv2.filter2D(img_np, -1, emboss_kernel)\n",
    "\n",
    "    sharpen_kernel = np.array([[ 0, -1,  0],\n",
    "                               [-1,  5, -1],\n",
    "                               [ 0, -1,  0]])\n",
    "    filters['sharpen'] = cv2.filter2D(img_np, -1, sharpen_kernel)\n",
    "\n",
    "    filters['blur'] = cv2.GaussianBlur(img_np, (7, 7), 0)\n",
    "\n",
    "    return filters\n",
    "\n",
    "for class_name in os.listdir(input_dir):\n",
    "    input_class_dir = os.path.join(input_dir, class_name)\n",
    "    output_class_dir = os.path.join(output_dir, class_name)\n",
    "    os.makedirs(output_class_dir, exist_ok=True)\n",
    "\n",
    "    if not os.path.isdir(input_class_dir):\n",
    "        continue\n",
    "\n",
    "    print(f\"Processing class: {class_name}\")\n",
    "\n",
    "    for img_name in tqdm(os.listdir(input_class_dir), desc=class_name):\n",
    "        img_path = os.path.join(input_class_dir, img_name)\n",
    "        try:\n",
    "            # Görseli EXIF'e göre döndürerek aç\n",
    "            with Image.open(img_path) as pil_img:\n",
    "                pil_img = ImageOps.exif_transpose(pil_img).convert('RGB')  # ← BURASI ÖNEMLİ\n",
    "                pil_img = pil_img.resize(img_size)\n",
    "                img_np = np.array(pil_img)\n",
    "\n",
    "                base = os.path.splitext(img_name)[0]\n",
    "\n",
    "                filters = apply_filters(img_np)\n",
    "                for f_name, f_img in filters.items():\n",
    "                    f_img = normalize_img(f_img)\n",
    "\n",
    "                    # PIL için format uyarlaması\n",
    "                    if len(f_img.shape) == 2:\n",
    "                        pil_save_img = Image.fromarray(f_img)\n",
    "                    else:\n",
    "                        # OpenCV BGR'den RGB'ye çevir\n",
    "                        pil_save_img = Image.fromarray(cv2.cvtColor(f_img, cv2.COLOR_BGR2RGB))\n",
    "\n",
    "                    save_path = os.path.join(output_class_dir, f\"{base}_{f_name}.jpg\")\n",
    "                    pil_save_img.save(save_path)\n",
    "                    print(f\"Saved with PIL: {save_path}\")\n",
    "\n",
    "        except Exception as e:\n",
    "            print(f\"Error reading {img_path}: {e}\")\n"
   ]
  },
  {
   "cell_type": "markdown",
   "id": "15764fb1",
   "metadata": {},
   "source": [
    "## 2. AUG\n"
   ]
  },
  {
   "cell_type": "code",
   "execution_count": null,
   "id": "50c81c34",
   "metadata": {},
   "outputs": [
    {
     "name": "stdout",
     "output_type": "stream",
     "text": [
      "Processing class: 1.Augmentation\n"
     ]
    },
    {
     "name": "stderr",
     "output_type": "stream",
     "text": [
      "1.Augmentation: 100%|██████████| 4/4 [00:00<?, ?it/s]\n"
     ]
    },
    {
     "name": "stdout",
     "output_type": "stream",
     "text": [
      "Error reading C:\\Users\\huseyindogan\\Desktop\\FACE\\1.Augmentation\\Emine: [Errno 13] Permission denied: 'C:\\\\Users\\\\huseyindogan\\\\Desktop\\\\FACE\\\\1.Augmentation\\\\Emine'\n",
      "Error reading C:\\Users\\huseyindogan\\Desktop\\FACE\\1.Augmentation\\Hüseyin: [Errno 13] Permission denied: 'C:\\\\Users\\\\huseyindogan\\\\Desktop\\\\FACE\\\\1.Augmentation\\\\Hüseyin'\n",
      "Error reading C:\\Users\\huseyindogan\\Desktop\\FACE\\1.Augmentation\\Kübra: [Errno 13] Permission denied: 'C:\\\\Users\\\\huseyindogan\\\\Desktop\\\\FACE\\\\1.Augmentation\\\\Kübra'\n",
      "Error reading C:\\Users\\huseyindogan\\Desktop\\FACE\\1.Augmentation\\MuratHoca: [Errno 13] Permission denied: 'C:\\\\Users\\\\huseyindogan\\\\Desktop\\\\FACE\\\\1.Augmentation\\\\MuratHoca'\n",
      "Processing class: Emine\n"
     ]
    },
    {
     "name": "stderr",
     "output_type": "stream",
     "text": [
      "Emine:  20%|██        | 1/5 [00:01<00:04,  1.03s/it]"
     ]
    },
    {
     "name": "stdout",
     "output_type": "stream",
     "text": [
      "Saved original: C:\\Users\\huseyindogan\\Desktop\\FACE\\2.Augmentation\\Emine\\Emine1_original.jpg\n",
      "Saved filtered: C:\\Users\\huseyindogan\\Desktop\\FACE\\2.Augmentation\\Emine\\Emine1_canny.jpg\n",
      "Saved filtered: C:\\Users\\huseyindogan\\Desktop\\FACE\\2.Augmentation\\Emine\\Emine1_sobel.jpg\n",
      "Saved filtered: C:\\Users\\huseyindogan\\Desktop\\FACE\\2.Augmentation\\Emine\\Emine1_laplacian.jpg\n",
      "Saved filtered: C:\\Users\\huseyindogan\\Desktop\\FACE\\2.Augmentation\\Emine\\Emine1_emboss.jpg\n",
      "Saved filtered: C:\\Users\\huseyindogan\\Desktop\\FACE\\2.Augmentation\\Emine\\Emine1_sharpen.jpg\n",
      "Saved filtered: C:\\Users\\huseyindogan\\Desktop\\FACE\\2.Augmentation\\Emine\\Emine1_blur.jpg\n",
      "Saved filtered: C:\\Users\\huseyindogan\\Desktop\\FACE\\2.Augmentation\\Emine\\Emine1_rotate15.jpg\n",
      "Saved filtered: C:\\Users\\huseyindogan\\Desktop\\FACE\\2.Augmentation\\Emine\\Emine1_zoom.jpg\n",
      "Saved filtered: C:\\Users\\huseyindogan\\Desktop\\FACE\\2.Augmentation\\Emine\\Emine1_flip.jpg\n"
     ]
    },
    {
     "name": "stderr",
     "output_type": "stream",
     "text": [
      "Emine:  40%|████      | 2/5 [00:02<00:03,  1.17s/it]"
     ]
    },
    {
     "name": "stdout",
     "output_type": "stream",
     "text": [
      "Saved original: C:\\Users\\huseyindogan\\Desktop\\FACE\\2.Augmentation\\Emine\\Emine2_original.jpg\n",
      "Saved filtered: C:\\Users\\huseyindogan\\Desktop\\FACE\\2.Augmentation\\Emine\\Emine2_canny.jpg\n",
      "Saved filtered: C:\\Users\\huseyindogan\\Desktop\\FACE\\2.Augmentation\\Emine\\Emine2_sobel.jpg\n",
      "Saved filtered: C:\\Users\\huseyindogan\\Desktop\\FACE\\2.Augmentation\\Emine\\Emine2_laplacian.jpg\n",
      "Saved filtered: C:\\Users\\huseyindogan\\Desktop\\FACE\\2.Augmentation\\Emine\\Emine2_emboss.jpg\n",
      "Saved filtered: C:\\Users\\huseyindogan\\Desktop\\FACE\\2.Augmentation\\Emine\\Emine2_sharpen.jpg\n",
      "Saved filtered: C:\\Users\\huseyindogan\\Desktop\\FACE\\2.Augmentation\\Emine\\Emine2_blur.jpg\n",
      "Saved filtered: C:\\Users\\huseyindogan\\Desktop\\FACE\\2.Augmentation\\Emine\\Emine2_rotate15.jpg\n",
      "Saved filtered: C:\\Users\\huseyindogan\\Desktop\\FACE\\2.Augmentation\\Emine\\Emine2_zoom.jpg\n",
      "Saved filtered: C:\\Users\\huseyindogan\\Desktop\\FACE\\2.Augmentation\\Emine\\Emine2_flip.jpg\n"
     ]
    },
    {
     "name": "stderr",
     "output_type": "stream",
     "text": [
      "Emine:  60%|██████    | 3/5 [00:03<00:02,  1.04s/it]"
     ]
    },
    {
     "name": "stdout",
     "output_type": "stream",
     "text": [
      "Saved original: C:\\Users\\huseyindogan\\Desktop\\FACE\\2.Augmentation\\Emine\\Emine3_original.jpg\n",
      "Saved filtered: C:\\Users\\huseyindogan\\Desktop\\FACE\\2.Augmentation\\Emine\\Emine3_canny.jpg\n",
      "Saved filtered: C:\\Users\\huseyindogan\\Desktop\\FACE\\2.Augmentation\\Emine\\Emine3_sobel.jpg\n",
      "Saved filtered: C:\\Users\\huseyindogan\\Desktop\\FACE\\2.Augmentation\\Emine\\Emine3_laplacian.jpg\n",
      "Saved filtered: C:\\Users\\huseyindogan\\Desktop\\FACE\\2.Augmentation\\Emine\\Emine3_emboss.jpg\n",
      "Saved filtered: C:\\Users\\huseyindogan\\Desktop\\FACE\\2.Augmentation\\Emine\\Emine3_sharpen.jpg\n",
      "Saved filtered: C:\\Users\\huseyindogan\\Desktop\\FACE\\2.Augmentation\\Emine\\Emine3_blur.jpg\n",
      "Saved filtered: C:\\Users\\huseyindogan\\Desktop\\FACE\\2.Augmentation\\Emine\\Emine3_rotate15.jpg\n",
      "Saved filtered: C:\\Users\\huseyindogan\\Desktop\\FACE\\2.Augmentation\\Emine\\Emine3_zoom.jpg\n",
      "Saved filtered: C:\\Users\\huseyindogan\\Desktop\\FACE\\2.Augmentation\\Emine\\Emine3_flip.jpg\n"
     ]
    },
    {
     "name": "stderr",
     "output_type": "stream",
     "text": [
      "Emine:  80%|████████  | 4/5 [00:04<00:01,  1.14s/it]"
     ]
    },
    {
     "name": "stdout",
     "output_type": "stream",
     "text": [
      "Saved original: C:\\Users\\huseyindogan\\Desktop\\FACE\\2.Augmentation\\Emine\\Emine4_original.jpg\n",
      "Saved filtered: C:\\Users\\huseyindogan\\Desktop\\FACE\\2.Augmentation\\Emine\\Emine4_canny.jpg\n",
      "Saved filtered: C:\\Users\\huseyindogan\\Desktop\\FACE\\2.Augmentation\\Emine\\Emine4_sobel.jpg\n",
      "Saved filtered: C:\\Users\\huseyindogan\\Desktop\\FACE\\2.Augmentation\\Emine\\Emine4_laplacian.jpg\n",
      "Saved filtered: C:\\Users\\huseyindogan\\Desktop\\FACE\\2.Augmentation\\Emine\\Emine4_emboss.jpg\n",
      "Saved filtered: C:\\Users\\huseyindogan\\Desktop\\FACE\\2.Augmentation\\Emine\\Emine4_sharpen.jpg\n",
      "Saved filtered: C:\\Users\\huseyindogan\\Desktop\\FACE\\2.Augmentation\\Emine\\Emine4_blur.jpg\n",
      "Saved filtered: C:\\Users\\huseyindogan\\Desktop\\FACE\\2.Augmentation\\Emine\\Emine4_rotate15.jpg\n",
      "Saved filtered: C:\\Users\\huseyindogan\\Desktop\\FACE\\2.Augmentation\\Emine\\Emine4_zoom.jpg\n",
      "Saved filtered: C:\\Users\\huseyindogan\\Desktop\\FACE\\2.Augmentation\\Emine\\Emine4_flip.jpg\n"
     ]
    },
    {
     "name": "stderr",
     "output_type": "stream",
     "text": [
      "Emine: 100%|██████████| 5/5 [00:05<00:00,  1.11s/it]\n"
     ]
    },
    {
     "name": "stdout",
     "output_type": "stream",
     "text": [
      "Saved original: C:\\Users\\huseyindogan\\Desktop\\FACE\\2.Augmentation\\Emine\\Emine5_original.jpg\n",
      "Saved filtered: C:\\Users\\huseyindogan\\Desktop\\FACE\\2.Augmentation\\Emine\\Emine5_canny.jpg\n",
      "Saved filtered: C:\\Users\\huseyindogan\\Desktop\\FACE\\2.Augmentation\\Emine\\Emine5_sobel.jpg\n",
      "Saved filtered: C:\\Users\\huseyindogan\\Desktop\\FACE\\2.Augmentation\\Emine\\Emine5_laplacian.jpg\n",
      "Saved filtered: C:\\Users\\huseyindogan\\Desktop\\FACE\\2.Augmentation\\Emine\\Emine5_emboss.jpg\n",
      "Saved filtered: C:\\Users\\huseyindogan\\Desktop\\FACE\\2.Augmentation\\Emine\\Emine5_sharpen.jpg\n",
      "Saved filtered: C:\\Users\\huseyindogan\\Desktop\\FACE\\2.Augmentation\\Emine\\Emine5_blur.jpg\n",
      "Saved filtered: C:\\Users\\huseyindogan\\Desktop\\FACE\\2.Augmentation\\Emine\\Emine5_rotate15.jpg\n",
      "Saved filtered: C:\\Users\\huseyindogan\\Desktop\\FACE\\2.Augmentation\\Emine\\Emine5_zoom.jpg\n",
      "Saved filtered: C:\\Users\\huseyindogan\\Desktop\\FACE\\2.Augmentation\\Emine\\Emine5_flip.jpg\n",
      "Processing class: Hüseyin\n"
     ]
    },
    {
     "name": "stderr",
     "output_type": "stream",
     "text": [
      "Hüseyin:  20%|██        | 1/5 [00:00<00:03,  1.13it/s]"
     ]
    },
    {
     "name": "stdout",
     "output_type": "stream",
     "text": [
      "Saved original: C:\\Users\\huseyindogan\\Desktop\\FACE\\2.Augmentation\\Hüseyin\\Hüseyin1_original.jpg\n",
      "Saved filtered: C:\\Users\\huseyindogan\\Desktop\\FACE\\2.Augmentation\\Hüseyin\\Hüseyin1_canny.jpg\n",
      "Saved filtered: C:\\Users\\huseyindogan\\Desktop\\FACE\\2.Augmentation\\Hüseyin\\Hüseyin1_sobel.jpg\n",
      "Saved filtered: C:\\Users\\huseyindogan\\Desktop\\FACE\\2.Augmentation\\Hüseyin\\Hüseyin1_laplacian.jpg\n",
      "Saved filtered: C:\\Users\\huseyindogan\\Desktop\\FACE\\2.Augmentation\\Hüseyin\\Hüseyin1_emboss.jpg\n",
      "Saved filtered: C:\\Users\\huseyindogan\\Desktop\\FACE\\2.Augmentation\\Hüseyin\\Hüseyin1_sharpen.jpg\n",
      "Saved filtered: C:\\Users\\huseyindogan\\Desktop\\FACE\\2.Augmentation\\Hüseyin\\Hüseyin1_blur.jpg\n",
      "Saved filtered: C:\\Users\\huseyindogan\\Desktop\\FACE\\2.Augmentation\\Hüseyin\\Hüseyin1_rotate15.jpg\n",
      "Saved filtered: C:\\Users\\huseyindogan\\Desktop\\FACE\\2.Augmentation\\Hüseyin\\Hüseyin1_zoom.jpg\n",
      "Saved filtered: C:\\Users\\huseyindogan\\Desktop\\FACE\\2.Augmentation\\Hüseyin\\Hüseyin1_flip.jpg\n"
     ]
    },
    {
     "name": "stderr",
     "output_type": "stream",
     "text": [
      "Hüseyin:  40%|████      | 2/5 [00:02<00:03,  1.06s/it]"
     ]
    },
    {
     "name": "stdout",
     "output_type": "stream",
     "text": [
      "Saved original: C:\\Users\\huseyindogan\\Desktop\\FACE\\2.Augmentation\\Hüseyin\\Hüseyin2_original.jpg\n",
      "Saved filtered: C:\\Users\\huseyindogan\\Desktop\\FACE\\2.Augmentation\\Hüseyin\\Hüseyin2_canny.jpg\n",
      "Saved filtered: C:\\Users\\huseyindogan\\Desktop\\FACE\\2.Augmentation\\Hüseyin\\Hüseyin2_sobel.jpg\n",
      "Saved filtered: C:\\Users\\huseyindogan\\Desktop\\FACE\\2.Augmentation\\Hüseyin\\Hüseyin2_laplacian.jpg\n",
      "Saved filtered: C:\\Users\\huseyindogan\\Desktop\\FACE\\2.Augmentation\\Hüseyin\\Hüseyin2_emboss.jpg\n",
      "Saved filtered: C:\\Users\\huseyindogan\\Desktop\\FACE\\2.Augmentation\\Hüseyin\\Hüseyin2_sharpen.jpg\n",
      "Saved filtered: C:\\Users\\huseyindogan\\Desktop\\FACE\\2.Augmentation\\Hüseyin\\Hüseyin2_blur.jpg\n",
      "Saved filtered: C:\\Users\\huseyindogan\\Desktop\\FACE\\2.Augmentation\\Hüseyin\\Hüseyin2_rotate15.jpg\n",
      "Saved filtered: C:\\Users\\huseyindogan\\Desktop\\FACE\\2.Augmentation\\Hüseyin\\Hüseyin2_zoom.jpg\n",
      "Saved filtered: C:\\Users\\huseyindogan\\Desktop\\FACE\\2.Augmentation\\Hüseyin\\Hüseyin2_flip.jpg\n"
     ]
    },
    {
     "name": "stderr",
     "output_type": "stream",
     "text": [
      "Hüseyin:  60%|██████    | 3/5 [00:03<00:02,  1.20s/it]"
     ]
    },
    {
     "name": "stdout",
     "output_type": "stream",
     "text": [
      "Saved original: C:\\Users\\huseyindogan\\Desktop\\FACE\\2.Augmentation\\Hüseyin\\Hüseyin3_original.jpg\n",
      "Saved filtered: C:\\Users\\huseyindogan\\Desktop\\FACE\\2.Augmentation\\Hüseyin\\Hüseyin3_canny.jpg\n",
      "Saved filtered: C:\\Users\\huseyindogan\\Desktop\\FACE\\2.Augmentation\\Hüseyin\\Hüseyin3_sobel.jpg\n",
      "Saved filtered: C:\\Users\\huseyindogan\\Desktop\\FACE\\2.Augmentation\\Hüseyin\\Hüseyin3_laplacian.jpg\n",
      "Saved filtered: C:\\Users\\huseyindogan\\Desktop\\FACE\\2.Augmentation\\Hüseyin\\Hüseyin3_emboss.jpg\n",
      "Saved filtered: C:\\Users\\huseyindogan\\Desktop\\FACE\\2.Augmentation\\Hüseyin\\Hüseyin3_sharpen.jpg\n",
      "Saved filtered: C:\\Users\\huseyindogan\\Desktop\\FACE\\2.Augmentation\\Hüseyin\\Hüseyin3_blur.jpg\n",
      "Saved filtered: C:\\Users\\huseyindogan\\Desktop\\FACE\\2.Augmentation\\Hüseyin\\Hüseyin3_rotate15.jpg\n",
      "Saved filtered: C:\\Users\\huseyindogan\\Desktop\\FACE\\2.Augmentation\\Hüseyin\\Hüseyin3_zoom.jpg\n",
      "Saved filtered: C:\\Users\\huseyindogan\\Desktop\\FACE\\2.Augmentation\\Hüseyin\\Hüseyin3_flip.jpg\n"
     ]
    },
    {
     "name": "stderr",
     "output_type": "stream",
     "text": [
      "Hüseyin:  80%|████████  | 4/5 [00:04<00:01,  1.17s/it]"
     ]
    },
    {
     "name": "stdout",
     "output_type": "stream",
     "text": [
      "Saved original: C:\\Users\\huseyindogan\\Desktop\\FACE\\2.Augmentation\\Hüseyin\\Hüseyin4_original.jpg\n",
      "Saved filtered: C:\\Users\\huseyindogan\\Desktop\\FACE\\2.Augmentation\\Hüseyin\\Hüseyin4_canny.jpg\n",
      "Saved filtered: C:\\Users\\huseyindogan\\Desktop\\FACE\\2.Augmentation\\Hüseyin\\Hüseyin4_sobel.jpg\n",
      "Saved filtered: C:\\Users\\huseyindogan\\Desktop\\FACE\\2.Augmentation\\Hüseyin\\Hüseyin4_laplacian.jpg\n",
      "Saved filtered: C:\\Users\\huseyindogan\\Desktop\\FACE\\2.Augmentation\\Hüseyin\\Hüseyin4_emboss.jpg\n",
      "Saved filtered: C:\\Users\\huseyindogan\\Desktop\\FACE\\2.Augmentation\\Hüseyin\\Hüseyin4_sharpen.jpg\n",
      "Saved filtered: C:\\Users\\huseyindogan\\Desktop\\FACE\\2.Augmentation\\Hüseyin\\Hüseyin4_blur.jpg\n",
      "Saved filtered: C:\\Users\\huseyindogan\\Desktop\\FACE\\2.Augmentation\\Hüseyin\\Hüseyin4_rotate15.jpg\n",
      "Saved filtered: C:\\Users\\huseyindogan\\Desktop\\FACE\\2.Augmentation\\Hüseyin\\Hüseyin4_zoom.jpg\n",
      "Saved filtered: C:\\Users\\huseyindogan\\Desktop\\FACE\\2.Augmentation\\Hüseyin\\Hüseyin4_flip.jpg\n"
     ]
    },
    {
     "name": "stderr",
     "output_type": "stream",
     "text": [
      "Hüseyin: 100%|██████████| 5/5 [00:05<00:00,  1.11s/it]\n"
     ]
    },
    {
     "name": "stdout",
     "output_type": "stream",
     "text": [
      "Saved original: C:\\Users\\huseyindogan\\Desktop\\FACE\\2.Augmentation\\Hüseyin\\Hüseyin5_original.jpg\n",
      "Saved filtered: C:\\Users\\huseyindogan\\Desktop\\FACE\\2.Augmentation\\Hüseyin\\Hüseyin5_canny.jpg\n",
      "Saved filtered: C:\\Users\\huseyindogan\\Desktop\\FACE\\2.Augmentation\\Hüseyin\\Hüseyin5_sobel.jpg\n",
      "Saved filtered: C:\\Users\\huseyindogan\\Desktop\\FACE\\2.Augmentation\\Hüseyin\\Hüseyin5_laplacian.jpg\n",
      "Saved filtered: C:\\Users\\huseyindogan\\Desktop\\FACE\\2.Augmentation\\Hüseyin\\Hüseyin5_emboss.jpg\n",
      "Saved filtered: C:\\Users\\huseyindogan\\Desktop\\FACE\\2.Augmentation\\Hüseyin\\Hüseyin5_sharpen.jpg\n",
      "Saved filtered: C:\\Users\\huseyindogan\\Desktop\\FACE\\2.Augmentation\\Hüseyin\\Hüseyin5_blur.jpg\n",
      "Saved filtered: C:\\Users\\huseyindogan\\Desktop\\FACE\\2.Augmentation\\Hüseyin\\Hüseyin5_rotate15.jpg\n",
      "Saved filtered: C:\\Users\\huseyindogan\\Desktop\\FACE\\2.Augmentation\\Hüseyin\\Hüseyin5_zoom.jpg\n",
      "Saved filtered: C:\\Users\\huseyindogan\\Desktop\\FACE\\2.Augmentation\\Hüseyin\\Hüseyin5_flip.jpg\n",
      "Processing class: Kübra\n"
     ]
    },
    {
     "name": "stderr",
     "output_type": "stream",
     "text": [
      "Kübra:  20%|██        | 1/5 [00:01<00:04,  1.07s/it]"
     ]
    },
    {
     "name": "stdout",
     "output_type": "stream",
     "text": [
      "Saved original: C:\\Users\\huseyindogan\\Desktop\\FACE\\2.Augmentation\\Kübra\\Kübra1_original.jpg\n",
      "Saved filtered: C:\\Users\\huseyindogan\\Desktop\\FACE\\2.Augmentation\\Kübra\\Kübra1_canny.jpg\n",
      "Saved filtered: C:\\Users\\huseyindogan\\Desktop\\FACE\\2.Augmentation\\Kübra\\Kübra1_sobel.jpg\n",
      "Saved filtered: C:\\Users\\huseyindogan\\Desktop\\FACE\\2.Augmentation\\Kübra\\Kübra1_laplacian.jpg\n",
      "Saved filtered: C:\\Users\\huseyindogan\\Desktop\\FACE\\2.Augmentation\\Kübra\\Kübra1_emboss.jpg\n",
      "Saved filtered: C:\\Users\\huseyindogan\\Desktop\\FACE\\2.Augmentation\\Kübra\\Kübra1_sharpen.jpg\n",
      "Saved filtered: C:\\Users\\huseyindogan\\Desktop\\FACE\\2.Augmentation\\Kübra\\Kübra1_blur.jpg\n",
      "Saved filtered: C:\\Users\\huseyindogan\\Desktop\\FACE\\2.Augmentation\\Kübra\\Kübra1_rotate15.jpg\n",
      "Saved filtered: C:\\Users\\huseyindogan\\Desktop\\FACE\\2.Augmentation\\Kübra\\Kübra1_zoom.jpg\n",
      "Saved filtered: C:\\Users\\huseyindogan\\Desktop\\FACE\\2.Augmentation\\Kübra\\Kübra1_flip.jpg\n"
     ]
    },
    {
     "name": "stderr",
     "output_type": "stream",
     "text": [
      "Kübra:  40%|████      | 2/5 [00:02<00:03,  1.20s/it]"
     ]
    },
    {
     "name": "stdout",
     "output_type": "stream",
     "text": [
      "Saved original: C:\\Users\\huseyindogan\\Desktop\\FACE\\2.Augmentation\\Kübra\\Kübra2_original.jpg\n",
      "Saved filtered: C:\\Users\\huseyindogan\\Desktop\\FACE\\2.Augmentation\\Kübra\\Kübra2_canny.jpg\n",
      "Saved filtered: C:\\Users\\huseyindogan\\Desktop\\FACE\\2.Augmentation\\Kübra\\Kübra2_sobel.jpg\n",
      "Saved filtered: C:\\Users\\huseyindogan\\Desktop\\FACE\\2.Augmentation\\Kübra\\Kübra2_laplacian.jpg\n",
      "Saved filtered: C:\\Users\\huseyindogan\\Desktop\\FACE\\2.Augmentation\\Kübra\\Kübra2_emboss.jpg\n",
      "Saved filtered: C:\\Users\\huseyindogan\\Desktop\\FACE\\2.Augmentation\\Kübra\\Kübra2_sharpen.jpg\n",
      "Saved filtered: C:\\Users\\huseyindogan\\Desktop\\FACE\\2.Augmentation\\Kübra\\Kübra2_blur.jpg\n",
      "Saved filtered: C:\\Users\\huseyindogan\\Desktop\\FACE\\2.Augmentation\\Kübra\\Kübra2_rotate15.jpg\n",
      "Saved filtered: C:\\Users\\huseyindogan\\Desktop\\FACE\\2.Augmentation\\Kübra\\Kübra2_zoom.jpg\n",
      "Saved filtered: C:\\Users\\huseyindogan\\Desktop\\FACE\\2.Augmentation\\Kübra\\Kübra2_flip.jpg\n"
     ]
    },
    {
     "name": "stderr",
     "output_type": "stream",
     "text": [
      "Kübra:  60%|██████    | 3/5 [00:03<00:02,  1.12s/it]"
     ]
    },
    {
     "name": "stdout",
     "output_type": "stream",
     "text": [
      "Saved original: C:\\Users\\huseyindogan\\Desktop\\FACE\\2.Augmentation\\Kübra\\Kübra3_original.jpg\n",
      "Saved filtered: C:\\Users\\huseyindogan\\Desktop\\FACE\\2.Augmentation\\Kübra\\Kübra3_canny.jpg\n",
      "Saved filtered: C:\\Users\\huseyindogan\\Desktop\\FACE\\2.Augmentation\\Kübra\\Kübra3_sobel.jpg\n",
      "Saved filtered: C:\\Users\\huseyindogan\\Desktop\\FACE\\2.Augmentation\\Kübra\\Kübra3_laplacian.jpg\n",
      "Saved filtered: C:\\Users\\huseyindogan\\Desktop\\FACE\\2.Augmentation\\Kübra\\Kübra3_emboss.jpg\n",
      "Saved filtered: C:\\Users\\huseyindogan\\Desktop\\FACE\\2.Augmentation\\Kübra\\Kübra3_sharpen.jpg\n",
      "Saved filtered: C:\\Users\\huseyindogan\\Desktop\\FACE\\2.Augmentation\\Kübra\\Kübra3_blur.jpg\n",
      "Saved filtered: C:\\Users\\huseyindogan\\Desktop\\FACE\\2.Augmentation\\Kübra\\Kübra3_rotate15.jpg\n",
      "Saved filtered: C:\\Users\\huseyindogan\\Desktop\\FACE\\2.Augmentation\\Kübra\\Kübra3_zoom.jpg\n",
      "Saved filtered: C:\\Users\\huseyindogan\\Desktop\\FACE\\2.Augmentation\\Kübra\\Kübra3_flip.jpg\n"
     ]
    },
    {
     "name": "stderr",
     "output_type": "stream",
     "text": [
      "Kübra:  80%|████████  | 4/5 [00:04<00:01,  1.04s/it]"
     ]
    },
    {
     "name": "stdout",
     "output_type": "stream",
     "text": [
      "Saved original: C:\\Users\\huseyindogan\\Desktop\\FACE\\2.Augmentation\\Kübra\\Kübra4_original.jpg\n",
      "Saved filtered: C:\\Users\\huseyindogan\\Desktop\\FACE\\2.Augmentation\\Kübra\\Kübra4_canny.jpg\n",
      "Saved filtered: C:\\Users\\huseyindogan\\Desktop\\FACE\\2.Augmentation\\Kübra\\Kübra4_sobel.jpg\n",
      "Saved filtered: C:\\Users\\huseyindogan\\Desktop\\FACE\\2.Augmentation\\Kübra\\Kübra4_laplacian.jpg\n",
      "Saved filtered: C:\\Users\\huseyindogan\\Desktop\\FACE\\2.Augmentation\\Kübra\\Kübra4_emboss.jpg\n",
      "Saved filtered: C:\\Users\\huseyindogan\\Desktop\\FACE\\2.Augmentation\\Kübra\\Kübra4_sharpen.jpg\n",
      "Saved filtered: C:\\Users\\huseyindogan\\Desktop\\FACE\\2.Augmentation\\Kübra\\Kübra4_blur.jpg\n",
      "Saved filtered: C:\\Users\\huseyindogan\\Desktop\\FACE\\2.Augmentation\\Kübra\\Kübra4_rotate15.jpg\n",
      "Saved filtered: C:\\Users\\huseyindogan\\Desktop\\FACE\\2.Augmentation\\Kübra\\Kübra4_zoom.jpg\n",
      "Saved filtered: C:\\Users\\huseyindogan\\Desktop\\FACE\\2.Augmentation\\Kübra\\Kübra4_flip.jpg\n"
     ]
    },
    {
     "name": "stderr",
     "output_type": "stream",
     "text": [
      "Kübra: 100%|██████████| 5/5 [00:05<00:00,  1.10s/it]\n"
     ]
    },
    {
     "name": "stdout",
     "output_type": "stream",
     "text": [
      "Saved original: C:\\Users\\huseyindogan\\Desktop\\FACE\\2.Augmentation\\Kübra\\Kübra5_original.jpg\n",
      "Saved filtered: C:\\Users\\huseyindogan\\Desktop\\FACE\\2.Augmentation\\Kübra\\Kübra5_canny.jpg\n",
      "Saved filtered: C:\\Users\\huseyindogan\\Desktop\\FACE\\2.Augmentation\\Kübra\\Kübra5_sobel.jpg\n",
      "Saved filtered: C:\\Users\\huseyindogan\\Desktop\\FACE\\2.Augmentation\\Kübra\\Kübra5_laplacian.jpg\n",
      "Saved filtered: C:\\Users\\huseyindogan\\Desktop\\FACE\\2.Augmentation\\Kübra\\Kübra5_emboss.jpg\n",
      "Saved filtered: C:\\Users\\huseyindogan\\Desktop\\FACE\\2.Augmentation\\Kübra\\Kübra5_sharpen.jpg\n",
      "Saved filtered: C:\\Users\\huseyindogan\\Desktop\\FACE\\2.Augmentation\\Kübra\\Kübra5_blur.jpg\n",
      "Saved filtered: C:\\Users\\huseyindogan\\Desktop\\FACE\\2.Augmentation\\Kübra\\Kübra5_rotate15.jpg\n",
      "Saved filtered: C:\\Users\\huseyindogan\\Desktop\\FACE\\2.Augmentation\\Kübra\\Kübra5_zoom.jpg\n",
      "Saved filtered: C:\\Users\\huseyindogan\\Desktop\\FACE\\2.Augmentation\\Kübra\\Kübra5_flip.jpg\n",
      "Processing class: MuratHoca\n"
     ]
    },
    {
     "name": "stderr",
     "output_type": "stream",
     "text": [
      "MuratHoca:   8%|▊         | 1/12 [00:01<00:13,  1.24s/it]"
     ]
    },
    {
     "name": "stdout",
     "output_type": "stream",
     "text": [
      "Saved original: C:\\Users\\huseyindogan\\Desktop\\FACE\\2.Augmentation\\MuratHoca\\murat_hoca1_original.jpg\n",
      "Saved filtered: C:\\Users\\huseyindogan\\Desktop\\FACE\\2.Augmentation\\MuratHoca\\murat_hoca1_canny.jpg\n",
      "Saved filtered: C:\\Users\\huseyindogan\\Desktop\\FACE\\2.Augmentation\\MuratHoca\\murat_hoca1_sobel.jpg\n",
      "Saved filtered: C:\\Users\\huseyindogan\\Desktop\\FACE\\2.Augmentation\\MuratHoca\\murat_hoca1_laplacian.jpg\n",
      "Saved filtered: C:\\Users\\huseyindogan\\Desktop\\FACE\\2.Augmentation\\MuratHoca\\murat_hoca1_emboss.jpg\n",
      "Saved filtered: C:\\Users\\huseyindogan\\Desktop\\FACE\\2.Augmentation\\MuratHoca\\murat_hoca1_sharpen.jpg\n",
      "Saved filtered: C:\\Users\\huseyindogan\\Desktop\\FACE\\2.Augmentation\\MuratHoca\\murat_hoca1_blur.jpg\n",
      "Saved filtered: C:\\Users\\huseyindogan\\Desktop\\FACE\\2.Augmentation\\MuratHoca\\murat_hoca1_rotate15.jpg\n",
      "Saved filtered: C:\\Users\\huseyindogan\\Desktop\\FACE\\2.Augmentation\\MuratHoca\\murat_hoca1_zoom.jpg\n",
      "Saved filtered: C:\\Users\\huseyindogan\\Desktop\\FACE\\2.Augmentation\\MuratHoca\\murat_hoca1_flip.jpg\n"
     ]
    },
    {
     "name": "stderr",
     "output_type": "stream",
     "text": [
      "MuratHoca:  17%|█▋        | 2/12 [00:02<00:11,  1.16s/it]"
     ]
    },
    {
     "name": "stdout",
     "output_type": "stream",
     "text": [
      "Saved original: C:\\Users\\huseyindogan\\Desktop\\FACE\\2.Augmentation\\MuratHoca\\murat_hoca10_original.jpg\n",
      "Saved filtered: C:\\Users\\huseyindogan\\Desktop\\FACE\\2.Augmentation\\MuratHoca\\murat_hoca10_canny.jpg\n",
      "Saved filtered: C:\\Users\\huseyindogan\\Desktop\\FACE\\2.Augmentation\\MuratHoca\\murat_hoca10_sobel.jpg\n",
      "Saved filtered: C:\\Users\\huseyindogan\\Desktop\\FACE\\2.Augmentation\\MuratHoca\\murat_hoca10_laplacian.jpg\n",
      "Saved filtered: C:\\Users\\huseyindogan\\Desktop\\FACE\\2.Augmentation\\MuratHoca\\murat_hoca10_emboss.jpg\n",
      "Saved filtered: C:\\Users\\huseyindogan\\Desktop\\FACE\\2.Augmentation\\MuratHoca\\murat_hoca10_sharpen.jpg\n",
      "Saved filtered: C:\\Users\\huseyindogan\\Desktop\\FACE\\2.Augmentation\\MuratHoca\\murat_hoca10_blur.jpg\n",
      "Saved filtered: C:\\Users\\huseyindogan\\Desktop\\FACE\\2.Augmentation\\MuratHoca\\murat_hoca10_rotate15.jpg\n",
      "Saved filtered: C:\\Users\\huseyindogan\\Desktop\\FACE\\2.Augmentation\\MuratHoca\\murat_hoca10_zoom.jpg\n",
      "Saved filtered: C:\\Users\\huseyindogan\\Desktop\\FACE\\2.Augmentation\\MuratHoca\\murat_hoca10_flip.jpg\n"
     ]
    },
    {
     "name": "stderr",
     "output_type": "stream",
     "text": [
      "MuratHoca:  25%|██▌       | 3/12 [00:03<00:09,  1.02s/it]"
     ]
    },
    {
     "name": "stdout",
     "output_type": "stream",
     "text": [
      "Saved original: C:\\Users\\huseyindogan\\Desktop\\FACE\\2.Augmentation\\MuratHoca\\murat_hoca11_original.jpg\n",
      "Saved filtered: C:\\Users\\huseyindogan\\Desktop\\FACE\\2.Augmentation\\MuratHoca\\murat_hoca11_canny.jpg\n",
      "Saved filtered: C:\\Users\\huseyindogan\\Desktop\\FACE\\2.Augmentation\\MuratHoca\\murat_hoca11_sobel.jpg\n",
      "Saved filtered: C:\\Users\\huseyindogan\\Desktop\\FACE\\2.Augmentation\\MuratHoca\\murat_hoca11_laplacian.jpg\n",
      "Saved filtered: C:\\Users\\huseyindogan\\Desktop\\FACE\\2.Augmentation\\MuratHoca\\murat_hoca11_emboss.jpg\n",
      "Saved filtered: C:\\Users\\huseyindogan\\Desktop\\FACE\\2.Augmentation\\MuratHoca\\murat_hoca11_sharpen.jpg\n",
      "Saved filtered: C:\\Users\\huseyindogan\\Desktop\\FACE\\2.Augmentation\\MuratHoca\\murat_hoca11_blur.jpg\n",
      "Saved filtered: C:\\Users\\huseyindogan\\Desktop\\FACE\\2.Augmentation\\MuratHoca\\murat_hoca11_rotate15.jpg\n",
      "Saved filtered: C:\\Users\\huseyindogan\\Desktop\\FACE\\2.Augmentation\\MuratHoca\\murat_hoca11_zoom.jpg\n",
      "Saved filtered: C:\\Users\\huseyindogan\\Desktop\\FACE\\2.Augmentation\\MuratHoca\\murat_hoca11_flip.jpg\n"
     ]
    },
    {
     "name": "stderr",
     "output_type": "stream",
     "text": [
      "MuratHoca:  33%|███▎      | 4/12 [00:04<00:07,  1.03it/s]"
     ]
    },
    {
     "name": "stdout",
     "output_type": "stream",
     "text": [
      "Saved original: C:\\Users\\huseyindogan\\Desktop\\FACE\\2.Augmentation\\MuratHoca\\murat_hoca12_original.jpg\n",
      "Saved filtered: C:\\Users\\huseyindogan\\Desktop\\FACE\\2.Augmentation\\MuratHoca\\murat_hoca12_canny.jpg\n",
      "Saved filtered: C:\\Users\\huseyindogan\\Desktop\\FACE\\2.Augmentation\\MuratHoca\\murat_hoca12_sobel.jpg\n",
      "Saved filtered: C:\\Users\\huseyindogan\\Desktop\\FACE\\2.Augmentation\\MuratHoca\\murat_hoca12_laplacian.jpg\n",
      "Saved filtered: C:\\Users\\huseyindogan\\Desktop\\FACE\\2.Augmentation\\MuratHoca\\murat_hoca12_emboss.jpg\n",
      "Saved filtered: C:\\Users\\huseyindogan\\Desktop\\FACE\\2.Augmentation\\MuratHoca\\murat_hoca12_sharpen.jpg\n",
      "Saved filtered: C:\\Users\\huseyindogan\\Desktop\\FACE\\2.Augmentation\\MuratHoca\\murat_hoca12_blur.jpg\n",
      "Saved filtered: C:\\Users\\huseyindogan\\Desktop\\FACE\\2.Augmentation\\MuratHoca\\murat_hoca12_rotate15.jpg\n",
      "Saved filtered: C:\\Users\\huseyindogan\\Desktop\\FACE\\2.Augmentation\\MuratHoca\\murat_hoca12_zoom.jpg\n",
      "Saved filtered: C:\\Users\\huseyindogan\\Desktop\\FACE\\2.Augmentation\\MuratHoca\\murat_hoca12_flip.jpg\n",
      "Saved original: C:\\Users\\huseyindogan\\Desktop\\FACE\\2.Augmentation\\MuratHoca\\murat_hoca2_original.jpg\n",
      "Saved filtered: C:\\Users\\huseyindogan\\Desktop\\FACE\\2.Augmentation\\MuratHoca\\murat_hoca2_canny.jpg\n",
      "Saved filtered: C:\\Users\\huseyindogan\\Desktop\\FACE\\2.Augmentation\\MuratHoca\\murat_hoca2_sobel.jpg\n",
      "Saved filtered: C:\\Users\\huseyindogan\\Desktop\\FACE\\2.Augmentation\\MuratHoca\\murat_hoca2_laplacian.jpg\n",
      "Saved filtered: C:\\Users\\huseyindogan\\Desktop\\FACE\\2.Augmentation\\MuratHoca\\murat_hoca2_emboss.jpg\n",
      "Saved filtered: C:\\Users\\huseyindogan\\Desktop\\FACE\\2.Augmentation\\MuratHoca\\murat_hoca2_sharpen.jpg\n",
      "Saved filtered: C:\\Users\\huseyindogan\\Desktop\\FACE\\2.Augmentation\\MuratHoca\\murat_hoca2_blur.jpg\n",
      "Saved filtered: C:\\Users\\huseyindogan\\Desktop\\FACE\\2.Augmentation\\MuratHoca\\murat_hoca2_rotate15.jpg\n",
      "Saved filtered: C:\\Users\\huseyindogan\\Desktop\\FACE\\2.Augmentation\\MuratHoca\\murat_hoca2_zoom.jpg\n",
      "Saved filtered: C:\\Users\\huseyindogan\\Desktop\\FACE\\2.Augmentation\\MuratHoca\\murat_hoca2_flip.jpg\n"
     ]
    },
    {
     "name": "stderr",
     "output_type": "stream",
     "text": [
      "MuratHoca:  50%|█████     | 6/12 [00:07<00:08,  1.36s/it]"
     ]
    },
    {
     "name": "stdout",
     "output_type": "stream",
     "text": [
      "Saved original: C:\\Users\\huseyindogan\\Desktop\\FACE\\2.Augmentation\\MuratHoca\\murat_hoca3_original.jpg\n",
      "Saved filtered: C:\\Users\\huseyindogan\\Desktop\\FACE\\2.Augmentation\\MuratHoca\\murat_hoca3_canny.jpg\n",
      "Saved filtered: C:\\Users\\huseyindogan\\Desktop\\FACE\\2.Augmentation\\MuratHoca\\murat_hoca3_sobel.jpg\n",
      "Saved filtered: C:\\Users\\huseyindogan\\Desktop\\FACE\\2.Augmentation\\MuratHoca\\murat_hoca3_laplacian.jpg\n",
      "Saved filtered: C:\\Users\\huseyindogan\\Desktop\\FACE\\2.Augmentation\\MuratHoca\\murat_hoca3_emboss.jpg\n",
      "Saved filtered: C:\\Users\\huseyindogan\\Desktop\\FACE\\2.Augmentation\\MuratHoca\\murat_hoca3_sharpen.jpg\n",
      "Saved filtered: C:\\Users\\huseyindogan\\Desktop\\FACE\\2.Augmentation\\MuratHoca\\murat_hoca3_blur.jpg\n",
      "Saved filtered: C:\\Users\\huseyindogan\\Desktop\\FACE\\2.Augmentation\\MuratHoca\\murat_hoca3_rotate15.jpg\n",
      "Saved filtered: C:\\Users\\huseyindogan\\Desktop\\FACE\\2.Augmentation\\MuratHoca\\murat_hoca3_zoom.jpg\n",
      "Saved filtered: C:\\Users\\huseyindogan\\Desktop\\FACE\\2.Augmentation\\MuratHoca\\murat_hoca3_flip.jpg\n"
     ]
    },
    {
     "name": "stderr",
     "output_type": "stream",
     "text": [
      "MuratHoca:  58%|█████▊    | 7/12 [00:08<00:06,  1.34s/it]"
     ]
    },
    {
     "name": "stdout",
     "output_type": "stream",
     "text": [
      "Saved original: C:\\Users\\huseyindogan\\Desktop\\FACE\\2.Augmentation\\MuratHoca\\murat_hoca4_original.jpg\n",
      "Saved filtered: C:\\Users\\huseyindogan\\Desktop\\FACE\\2.Augmentation\\MuratHoca\\murat_hoca4_canny.jpg\n",
      "Saved filtered: C:\\Users\\huseyindogan\\Desktop\\FACE\\2.Augmentation\\MuratHoca\\murat_hoca4_sobel.jpg\n",
      "Saved filtered: C:\\Users\\huseyindogan\\Desktop\\FACE\\2.Augmentation\\MuratHoca\\murat_hoca4_laplacian.jpg\n",
      "Saved filtered: C:\\Users\\huseyindogan\\Desktop\\FACE\\2.Augmentation\\MuratHoca\\murat_hoca4_emboss.jpg\n",
      "Saved filtered: C:\\Users\\huseyindogan\\Desktop\\FACE\\2.Augmentation\\MuratHoca\\murat_hoca4_sharpen.jpg\n",
      "Saved filtered: C:\\Users\\huseyindogan\\Desktop\\FACE\\2.Augmentation\\MuratHoca\\murat_hoca4_blur.jpg\n",
      "Saved filtered: C:\\Users\\huseyindogan\\Desktop\\FACE\\2.Augmentation\\MuratHoca\\murat_hoca4_rotate15.jpg\n",
      "Saved filtered: C:\\Users\\huseyindogan\\Desktop\\FACE\\2.Augmentation\\MuratHoca\\murat_hoca4_zoom.jpg\n",
      "Saved filtered: C:\\Users\\huseyindogan\\Desktop\\FACE\\2.Augmentation\\MuratHoca\\murat_hoca4_flip.jpg\n"
     ]
    },
    {
     "name": "stderr",
     "output_type": "stream",
     "text": [
      "MuratHoca:  67%|██████▋   | 8/12 [00:10<00:05,  1.32s/it]"
     ]
    },
    {
     "name": "stdout",
     "output_type": "stream",
     "text": [
      "Saved original: C:\\Users\\huseyindogan\\Desktop\\FACE\\2.Augmentation\\MuratHoca\\murat_hoca5_original.jpg\n",
      "Saved filtered: C:\\Users\\huseyindogan\\Desktop\\FACE\\2.Augmentation\\MuratHoca\\murat_hoca5_canny.jpg\n",
      "Saved filtered: C:\\Users\\huseyindogan\\Desktop\\FACE\\2.Augmentation\\MuratHoca\\murat_hoca5_sobel.jpg\n",
      "Saved filtered: C:\\Users\\huseyindogan\\Desktop\\FACE\\2.Augmentation\\MuratHoca\\murat_hoca5_laplacian.jpg\n",
      "Saved filtered: C:\\Users\\huseyindogan\\Desktop\\FACE\\2.Augmentation\\MuratHoca\\murat_hoca5_emboss.jpg\n",
      "Saved filtered: C:\\Users\\huseyindogan\\Desktop\\FACE\\2.Augmentation\\MuratHoca\\murat_hoca5_sharpen.jpg\n",
      "Saved filtered: C:\\Users\\huseyindogan\\Desktop\\FACE\\2.Augmentation\\MuratHoca\\murat_hoca5_blur.jpg\n",
      "Saved filtered: C:\\Users\\huseyindogan\\Desktop\\FACE\\2.Augmentation\\MuratHoca\\murat_hoca5_rotate15.jpg\n",
      "Saved filtered: C:\\Users\\huseyindogan\\Desktop\\FACE\\2.Augmentation\\MuratHoca\\murat_hoca5_zoom.jpg\n",
      "Saved filtered: C:\\Users\\huseyindogan\\Desktop\\FACE\\2.Augmentation\\MuratHoca\\murat_hoca5_flip.jpg\n"
     ]
    },
    {
     "name": "stderr",
     "output_type": "stream",
     "text": [
      "MuratHoca:  75%|███████▌  | 9/12 [00:11<00:04,  1.42s/it]"
     ]
    },
    {
     "name": "stdout",
     "output_type": "stream",
     "text": [
      "Saved original: C:\\Users\\huseyindogan\\Desktop\\FACE\\2.Augmentation\\MuratHoca\\murat_hoca6_original.jpg\n",
      "Saved filtered: C:\\Users\\huseyindogan\\Desktop\\FACE\\2.Augmentation\\MuratHoca\\murat_hoca6_canny.jpg\n",
      "Saved filtered: C:\\Users\\huseyindogan\\Desktop\\FACE\\2.Augmentation\\MuratHoca\\murat_hoca6_sobel.jpg\n",
      "Saved filtered: C:\\Users\\huseyindogan\\Desktop\\FACE\\2.Augmentation\\MuratHoca\\murat_hoca6_laplacian.jpg\n",
      "Saved filtered: C:\\Users\\huseyindogan\\Desktop\\FACE\\2.Augmentation\\MuratHoca\\murat_hoca6_emboss.jpg\n",
      "Saved filtered: C:\\Users\\huseyindogan\\Desktop\\FACE\\2.Augmentation\\MuratHoca\\murat_hoca6_sharpen.jpg\n",
      "Saved filtered: C:\\Users\\huseyindogan\\Desktop\\FACE\\2.Augmentation\\MuratHoca\\murat_hoca6_blur.jpg\n",
      "Saved filtered: C:\\Users\\huseyindogan\\Desktop\\FACE\\2.Augmentation\\MuratHoca\\murat_hoca6_rotate15.jpg\n",
      "Saved filtered: C:\\Users\\huseyindogan\\Desktop\\FACE\\2.Augmentation\\MuratHoca\\murat_hoca6_zoom.jpg\n",
      "Saved filtered: C:\\Users\\huseyindogan\\Desktop\\FACE\\2.Augmentation\\MuratHoca\\murat_hoca6_flip.jpg\n"
     ]
    },
    {
     "name": "stderr",
     "output_type": "stream",
     "text": [
      "MuratHoca:  83%|████████▎ | 10/12 [00:12<00:02,  1.28s/it]"
     ]
    },
    {
     "name": "stdout",
     "output_type": "stream",
     "text": [
      "Saved original: C:\\Users\\huseyindogan\\Desktop\\FACE\\2.Augmentation\\MuratHoca\\murat_hoca7_original.jpg\n",
      "Saved filtered: C:\\Users\\huseyindogan\\Desktop\\FACE\\2.Augmentation\\MuratHoca\\murat_hoca7_canny.jpg\n",
      "Saved filtered: C:\\Users\\huseyindogan\\Desktop\\FACE\\2.Augmentation\\MuratHoca\\murat_hoca7_sobel.jpg\n",
      "Saved filtered: C:\\Users\\huseyindogan\\Desktop\\FACE\\2.Augmentation\\MuratHoca\\murat_hoca7_laplacian.jpg\n",
      "Saved filtered: C:\\Users\\huseyindogan\\Desktop\\FACE\\2.Augmentation\\MuratHoca\\murat_hoca7_emboss.jpg\n",
      "Saved filtered: C:\\Users\\huseyindogan\\Desktop\\FACE\\2.Augmentation\\MuratHoca\\murat_hoca7_sharpen.jpg\n",
      "Saved filtered: C:\\Users\\huseyindogan\\Desktop\\FACE\\2.Augmentation\\MuratHoca\\murat_hoca7_blur.jpg\n",
      "Saved filtered: C:\\Users\\huseyindogan\\Desktop\\FACE\\2.Augmentation\\MuratHoca\\murat_hoca7_rotate15.jpg\n",
      "Saved filtered: C:\\Users\\huseyindogan\\Desktop\\FACE\\2.Augmentation\\MuratHoca\\murat_hoca7_zoom.jpg\n",
      "Saved filtered: C:\\Users\\huseyindogan\\Desktop\\FACE\\2.Augmentation\\MuratHoca\\murat_hoca7_flip.jpg\n"
     ]
    },
    {
     "name": "stderr",
     "output_type": "stream",
     "text": [
      "MuratHoca:  92%|█████████▏| 11/12 [00:13<00:01,  1.23s/it]"
     ]
    },
    {
     "name": "stdout",
     "output_type": "stream",
     "text": [
      "Saved original: C:\\Users\\huseyindogan\\Desktop\\FACE\\2.Augmentation\\MuratHoca\\murat_hoca8_original.jpg\n",
      "Saved filtered: C:\\Users\\huseyindogan\\Desktop\\FACE\\2.Augmentation\\MuratHoca\\murat_hoca8_canny.jpg\n",
      "Saved filtered: C:\\Users\\huseyindogan\\Desktop\\FACE\\2.Augmentation\\MuratHoca\\murat_hoca8_sobel.jpg\n",
      "Saved filtered: C:\\Users\\huseyindogan\\Desktop\\FACE\\2.Augmentation\\MuratHoca\\murat_hoca8_laplacian.jpg\n",
      "Saved filtered: C:\\Users\\huseyindogan\\Desktop\\FACE\\2.Augmentation\\MuratHoca\\murat_hoca8_emboss.jpg\n",
      "Saved filtered: C:\\Users\\huseyindogan\\Desktop\\FACE\\2.Augmentation\\MuratHoca\\murat_hoca8_sharpen.jpg\n",
      "Saved filtered: C:\\Users\\huseyindogan\\Desktop\\FACE\\2.Augmentation\\MuratHoca\\murat_hoca8_blur.jpg\n",
      "Saved filtered: C:\\Users\\huseyindogan\\Desktop\\FACE\\2.Augmentation\\MuratHoca\\murat_hoca8_rotate15.jpg\n",
      "Saved filtered: C:\\Users\\huseyindogan\\Desktop\\FACE\\2.Augmentation\\MuratHoca\\murat_hoca8_zoom.jpg\n",
      "Saved filtered: C:\\Users\\huseyindogan\\Desktop\\FACE\\2.Augmentation\\MuratHoca\\murat_hoca8_flip.jpg\n"
     ]
    },
    {
     "name": "stderr",
     "output_type": "stream",
     "text": [
      "MuratHoca: 100%|██████████| 12/12 [00:15<00:00,  1.25s/it]"
     ]
    },
    {
     "name": "stdout",
     "output_type": "stream",
     "text": [
      "Saved original: C:\\Users\\huseyindogan\\Desktop\\FACE\\2.Augmentation\\MuratHoca\\murat_hoca9_original.jpg\n",
      "Saved filtered: C:\\Users\\huseyindogan\\Desktop\\FACE\\2.Augmentation\\MuratHoca\\murat_hoca9_canny.jpg\n",
      "Saved filtered: C:\\Users\\huseyindogan\\Desktop\\FACE\\2.Augmentation\\MuratHoca\\murat_hoca9_sobel.jpg\n",
      "Saved filtered: C:\\Users\\huseyindogan\\Desktop\\FACE\\2.Augmentation\\MuratHoca\\murat_hoca9_laplacian.jpg\n",
      "Saved filtered: C:\\Users\\huseyindogan\\Desktop\\FACE\\2.Augmentation\\MuratHoca\\murat_hoca9_emboss.jpg\n",
      "Saved filtered: C:\\Users\\huseyindogan\\Desktop\\FACE\\2.Augmentation\\MuratHoca\\murat_hoca9_sharpen.jpg\n",
      "Saved filtered: C:\\Users\\huseyindogan\\Desktop\\FACE\\2.Augmentation\\MuratHoca\\murat_hoca9_blur.jpg\n",
      "Saved filtered: C:\\Users\\huseyindogan\\Desktop\\FACE\\2.Augmentation\\MuratHoca\\murat_hoca9_rotate15.jpg\n",
      "Saved filtered: C:\\Users\\huseyindogan\\Desktop\\FACE\\2.Augmentation\\MuratHoca\\murat_hoca9_zoom.jpg\n",
      "Saved filtered: C:\\Users\\huseyindogan\\Desktop\\FACE\\2.Augmentation\\MuratHoca\\murat_hoca9_flip.jpg\n"
     ]
    },
    {
     "name": "stderr",
     "output_type": "stream",
     "text": [
      "\n"
     ]
    }
   ],
   "source": [
    "import os\n",
    "import numpy as np\n",
    "from PIL import Image, ImageOps\n",
    "import cv2\n",
    "from tqdm import tqdm\n",
    "\n",
    "\n",
    "input_dir = r\"B\"\n",
    "output_dir = r\"L\"\n",
    "img_size = (240, 240)\n",
    "\n",
    "# Görsel normalize etme fonksiyonu\n",
    "def normalize_img(img):\n",
    "    img = img.astype(np.float32)\n",
    "    img = img - img.min()\n",
    "    if img.max() != 0:\n",
    "        img = img / img.max()\n",
    "    img = (img * 255).astype(np.uint8)\n",
    "    return img\n",
    "\n",
    "# Farklı filtreleri ve augmentasyonları uygula\n",
    "def apply_filters(img_np):\n",
    "    filters = {}\n",
    "\n",
    "    filters['canny'] = cv2.Canny(img_np, 100, 200)\n",
    "\n",
    "    gray = cv2.cvtColor(img_np, cv2.COLOR_RGB2GRAY)\n",
    "    filters['sobel'] = cv2.Sobel(gray, cv2.CV_64F, 1, 0, ksize=5)\n",
    "    filters['laplacian'] = cv2.Laplacian(gray, cv2.CV_64F)\n",
    "\n",
    "    emboss_kernel = np.array([[ -2, -1, 0],\n",
    "                              [ -1,  1, 1],\n",
    "                              [  0,  1, 2]])\n",
    "    filters['emboss'] = cv2.filter2D(img_np, -1, emboss_kernel)\n",
    "\n",
    "    sharpen_kernel = np.array([[ 0, -1,  0],\n",
    "                               [-1,  5, -1],\n",
    "                               [ 0, -1,  0]])\n",
    "    filters['sharpen'] = cv2.filter2D(img_np, -1, sharpen_kernel)\n",
    "\n",
    "    filters['blur'] = cv2.GaussianBlur(img_np, (7, 7), 0)\n",
    "\n",
    "    # Döndürme (15 derece)\n",
    "    rot_mat = cv2.getRotationMatrix2D((img_np.shape[1]//2, img_np.shape[0]//2), 15, 1.0)\n",
    "    filters['rotate15'] = cv2.warpAffine(img_np, rot_mat, (img_np.shape[1], img_np.shape[0]))\n",
    "\n",
    "    # Zoom (center crop)\n",
    "    h, w = img_np.shape[:2]\n",
    "    zoom_factor = 0.8\n",
    "    ch, cw = int(h * zoom_factor), int(w * zoom_factor)\n",
    "    start_y, start_x = (h - ch)//2, (w - cw)//2\n",
    "    zoom_crop = img_np[start_y:start_y+ch, start_x:start_x+cw]\n",
    "    zoom_resized = cv2.resize(zoom_crop, (w, h), interpolation=cv2.INTER_LINEAR)\n",
    "    filters['zoom'] = zoom_resized\n",
    "\n",
    "    # Flip (yatay)\n",
    "    filters['flip'] = cv2.flip(img_np, 1)\n",
    "\n",
    "    return filters\n",
    "\n",
    "# Her sınıf klasörü için işlemler\n",
    "for class_name in os.listdir(input_dir):\n",
    "    input_class_dir = os.path.join(input_dir, class_name)\n",
    "    output_class_dir = os.path.join(output_dir, class_name)\n",
    "    os.makedirs(output_class_dir, exist_ok=True)\n",
    "\n",
    "    if not os.path.isdir(input_class_dir):\n",
    "        continue\n",
    "\n",
    "    print(f\"Processing class: {class_name}\")\n",
    "\n",
    "    for img_name in tqdm(os.listdir(input_class_dir), desc=class_name):\n",
    "        img_path = os.path.join(input_class_dir, img_name)\n",
    "        try:\n",
    "            # EXIF düzeltme\n",
    "            with Image.open(img_path) as pil_img:\n",
    "                pil_img = ImageOps.exif_transpose(pil_img).convert('RGB')\n",
    "                pil_img = pil_img.resize(img_size)\n",
    "                img_np = np.array(pil_img)\n",
    "\n",
    "                base, ext = os.path.splitext(img_name)\n",
    "\n",
    "                # 1️⃣ Orijinal görseli kaydet\n",
    "                original_save_path = os.path.join(output_class_dir, f\"{base}_original{ext}\")\n",
    "                pil_img.save(original_save_path)\n",
    "                print(f\"Saved original: {original_save_path}\")\n",
    "\n",
    "                # 2️⃣ Filtreleri uygula ve kaydet\n",
    "                filters = apply_filters(img_np)\n",
    "                for f_name, f_img in filters.items():\n",
    "                    f_img = normalize_img(f_img)\n",
    "\n",
    "                    # PIL için format kontrolü\n",
    "                    if len(f_img.shape) == 2:\n",
    "                        pil_save_img = Image.fromarray(f_img)\n",
    "                    else:\n",
    "                        pil_save_img = Image.fromarray(cv2.cvtColor(f_img, cv2.COLOR_BGR2RGB))\n",
    "\n",
    "                    save_path = os.path.join(output_class_dir, f\"{base}_{f_name}.jpg\")\n",
    "                    pil_save_img.save(save_path)\n",
    "                    print(f\"Saved filtered: {save_path}\")\n",
    "\n",
    "        except Exception as e:\n",
    "            print(f\"Error reading {img_path}: {e}\")\n"
   ]
  },
  {
   "cell_type": "code",
   "execution_count": null,
   "id": "89450719",
   "metadata": {},
   "outputs": [
    {
     "name": "stdout",
     "output_type": "stream",
     "text": [
      " Klasörlerdeki Görsel Sayısı:\n",
      "\n",
      "📁 Emine: 35 görsel\n",
      "📁 Hüseyin: 35 görsel\n",
      "📁 Kübra: 35 görsel\n",
      "📁 MuratHoca: 84 görsel\n"
     ]
    }
   ],
   "source": [
    "import os\n",
    "\n",
    "output_dir = r\"P\"\n",
    "uzantilar = [\".jpg\", \".jpeg\", \".png\"]\n",
    "\n",
    "print(\" Klasörlerdeki Görsel Sayısı:\\n\")\n",
    "\n",
    "for class_name in os.listdir(output_dir):\n",
    "    class_path = os.path.join(output_dir, class_name)\n",
    "    if not os.path.isdir(class_path):\n",
    "        continue\n",
    "\n",
    "    sayac = 0\n",
    "    for dosya in os.listdir(class_path):\n",
    "        if os.path.splitext(dosya)[1].lower() in uzantilar:\n",
    "            sayac += 1\n",
    "\n",
    "    print(f\"📁 {class_name}: {sayac} görsel\")\n"
   ]
  },
  {
   "cell_type": "markdown",
   "id": "b8b7c7cd",
   "metadata": {},
   "source": [
    "## 3.AUG"
   ]
  },
  {
   "cell_type": "code",
   "execution_count": 18,
   "id": "7b6d8061",
   "metadata": {},
   "outputs": [],
   "source": [
    "import cv2\n",
    "import numpy as np\n",
    "import random\n",
    "\n",
    "def add_gaussian_noise(image):\n",
    "    row,col,ch = image.shape\n",
    "    mean = 0\n",
    "    sigma = 10\n",
    "    gauss = np.random.normal(mean,sigma,(row,col,ch)).reshape(row,col,ch)\n",
    "    noisy = image + gauss\n",
    "    return np.clip(noisy, 0, 255).astype(np.uint8)\n",
    "\n",
    "def change_brightness_contrast(image):\n",
    "    alpha = random.uniform(0.8, 1.2)  # Contrast\n",
    "    beta = random.randint(-20, 20)    # Brightness\n",
    "    adjusted = cv2.convertScaleAbs(image, alpha=alpha, beta=beta)\n",
    "    return adjusted\n",
    "\n",
    "def random_hue_saturation(image):\n",
    "    hsv = cv2.cvtColor(image, cv2.COLOR_RGB2HSV).astype(np.float32)\n",
    "    hue_shift = random.uniform(-10, 10)\n",
    "    sat_shift = random.uniform(-30, 30)\n",
    "    hsv[...,0] = (hsv[...,0] + hue_shift) % 180\n",
    "    hsv[...,1] = np.clip(hsv[...,1] + sat_shift, 0, 255)\n",
    "    rgb = cv2.cvtColor(hsv.astype(np.uint8), cv2.COLOR_HSV2RGB)\n",
    "    return rgb\n",
    "\n",
    "def random_rotate(image):\n",
    "    angle = random.choice([-25, -15, -10, 10, 15, 25])\n",
    "    h, w = image.shape[:2]\n",
    "    rot_mat = cv2.getRotationMatrix2D((w//2, h//2), angle, 1.0)\n",
    "    rotated = cv2.warpAffine(image, rot_mat, (w, h), borderMode=cv2.BORDER_REFLECT)\n",
    "    return rotated\n",
    "\n",
    "def random_zoom(image):\n",
    "    h, w = image.shape[:2]\n",
    "    zoom_factor = random.uniform(0.7, 0.95)\n",
    "    ch, cw = int(h * zoom_factor), int(w * zoom_factor)\n",
    "    start_y, start_x = (h - ch)//2, (w - cw)//2\n",
    "    zoom_crop = image[start_y:start_y+ch, start_x:start_x+cw]\n",
    "    zoom_resized = cv2.resize(zoom_crop, (w, h), interpolation=cv2.INTER_LINEAR)\n",
    "    return zoom_resized\n",
    "\n",
    "def random_flip(image):\n",
    "    if random.random() > 0.5:\n",
    "        return cv2.flip(image, 1)  # yatay flip\n",
    "    else:\n",
    "        return image\n",
    "\n",
    "def random_blur(image):\n",
    "    ksize = random.choice([3,5])\n",
    "    return cv2.GaussianBlur(image, (ksize, ksize), 0)\n",
    "\n",
    "def combined_augment(image):\n",
    "    \"\"\"Rastgele 2-4 farklı augmentasyon kombinasyonu uygula\"\"\"\n",
    "    funcs = [random_rotate, random_zoom, random_flip, random_blur, change_brightness_contrast, add_gaussian_noise, random_hue_saturation]\n",
    "    aug_image = image.copy()\n",
    "    n_augs = random.randint(2,4)\n",
    "    selected = random.sample(funcs, n_augs)\n",
    "    for f in selected:\n",
    "        aug_image = f(aug_image)\n",
    "    return aug_image\n"
   ]
  },
  {
   "cell_type": "code",
   "execution_count": null,
   "id": "80e1e518",
   "metadata": {},
   "outputs": [
    {
     "name": "stdout",
     "output_type": "stream",
     "text": [
      "Emine: 200 görsel, 200 eksik\n",
      "Hüseyin: 200 görsel, 200 eksik\n",
      "Kübra: 200 görsel, 200 eksik\n",
      "MuratHoca: 200 görsel, 200 eksik\n",
      "✅ Eksik görseller 400 sayısına tamamlandı.\n"
     ]
    }
   ],
   "source": [
    "import os\n",
    "from PIL import Image, ImageOps\n",
    "\n",
    "input_dir = r\"N\"\n",
    "target_count = 400\n",
    "img_size = (240, 240)\n",
    "extensions = [\".jpg\", \".jpeg\", \".png\"]\n",
    "\n",
    "for class_name in os.listdir(input_dir):\n",
    "    class_path = os.path.join(input_dir, class_name)\n",
    "    if not os.path.isdir(class_path):\n",
    "        continue\n",
    "\n",
    "    existing_images = [f for f in os.listdir(class_path) if os.path.splitext(f)[1].lower() in extensions]\n",
    "    current_count = len(existing_images)\n",
    "    missing = target_count - current_count\n",
    "    print(f\"{class_name}: {current_count} görsel, {missing} eksik\")\n",
    "\n",
    "    if missing <= 0:\n",
    "        continue\n",
    "\n",
    "    image_pool = [f for f in existing_images if \"original\" in f] or existing_images\n",
    "\n",
    "    for i in range(missing):\n",
    "        src_img_name = random.choice(image_pool)\n",
    "        src_path = os.path.join(class_path, src_img_name)\n",
    "\n",
    "        try:\n",
    "            with Image.open(src_path) as pil_img:\n",
    "                pil_img = ImageOps.exif_transpose(pil_img).convert(\"RGB\")\n",
    "                pil_img = pil_img.resize(img_size)\n",
    "                img_np = np.array(pil_img)\n",
    "\n",
    "                aug_img = combined_augment(img_np)\n",
    "                aug_img = np.clip(aug_img, 0, 255).astype(np.uint8)\n",
    "\n",
    "                aug_pil = Image.fromarray(aug_img)\n",
    "                save_name = f\"{class_name}_{current_count + i + 1}.jpg\"\n",
    "                save_path = os.path.join(class_path, save_name)\n",
    "                aug_pil.save(save_path)\n",
    "\n",
    "        except Exception as e:\n",
    "            print(f\"Hata: {src_path} - {e}\")\n",
    "\n",
    "print(\" Eksik görseller 400 sayısına tamamlandı.\")\n"
   ]
  },
  {
   "cell_type": "code",
   "execution_count": null,
   "id": "d11b33d7",
   "metadata": {},
   "outputs": [
    {
     "name": "stdout",
     "output_type": "stream",
     "text": [
      " Klasörlerdeki Görsel Sayısı:\n",
      "\n",
      " Emine: 400 görsel\n",
      " Hüseyin: 400 görsel\n",
      " Kübra: 400 görsel\n",
      " MuratHoca: 400 görsel\n"
     ]
    }
   ],
   "source": [
    "import os\n",
    "\n",
    "output_dir = r\"U\"\n",
    "uzantilar = [\".jpg\", \".jpeg\", \".png\"]\n",
    "\n",
    "print(\" Klasörlerdeki Görsel Sayısı:\\n\")\n",
    "\n",
    "for class_name in os.listdir(output_dir):\n",
    "    class_path = os.path.join(output_dir, class_name)\n",
    "    if not os.path.isdir(class_path):\n",
    "        continue\n",
    "\n",
    "    sayac = 0\n",
    "    for dosya in os.listdir(class_path):\n",
    "        if os.path.splitext(dosya)[1].lower() in uzantilar:\n",
    "            sayac += 1\n",
    "\n",
    "    print(f\" {class_name}: {sayac} görsel\")\n"
   ]
  },
  {
   "cell_type": "code",
   "execution_count": null,
   "id": "807b3407",
   "metadata": {},
   "outputs": [
    {
     "name": "stdout",
     "output_type": "stream",
     "text": [
      "Train / Val ayrımı tamamlandı.\n"
     ]
    }
   ],
   "source": [
    "import os\n",
    "import shutil\n",
    "import random\n",
    "\n",
    "source_dir = r\"Q\"\n",
    "target_base = r\"R\"\n",
    "train_ratio = 0.7\n",
    "\n",
    "train_dir = os.path.join(target_base, \"train\")\n",
    "val_dir = os.path.join(target_base, \"val\")\n",
    "\n",
    "# Hedef klasörleri oluştur\n",
    "os.makedirs(train_dir, exist_ok=True)\n",
    "os.makedirs(val_dir, exist_ok=True)\n",
    "\n",
    "# Her kişi klasörünü işle\n",
    "for person in os.listdir(source_dir):\n",
    "    person_path = os.path.join(source_dir, person)\n",
    "    if not os.path.isdir(person_path):\n",
    "        continue\n",
    "\n",
    "    images = [img for img in os.listdir(person_path) if img.lower().endswith(('.jpg', '.jpeg', '.png'))]\n",
    "    random.shuffle(images)\n",
    "\n",
    "    split_idx = int(len(images) * train_ratio)\n",
    "    train_images = images[:split_idx]\n",
    "    val_images = images[split_idx:]\n",
    "\n",
    "    # Alt kişi klasörlerini oluştur\n",
    "    train_person_dir = os.path.join(train_dir, person)\n",
    "    val_person_dir = os.path.join(val_dir, person)\n",
    "    os.makedirs(train_person_dir, exist_ok=True)\n",
    "    os.makedirs(val_person_dir, exist_ok=True)\n",
    "\n",
    "    # Görselleri kopyala\n",
    "    for img in train_images:\n",
    "        shutil.copy(os.path.join(person_path, img), os.path.join(train_person_dir, img))\n",
    "\n",
    "    for img in val_images:\n",
    "        shutil.copy(os.path.join(person_path, img), os.path.join(val_person_dir, img))\n",
    "\n",
    "print(\"Train / Val ayrımı tamamlandı.\")"
   ]
  }
 ],
 "metadata": {
  "kernelspec": {
   "display_name": "Python 3",
   "language": "python",
   "name": "python3"
  },
  "language_info": {
   "codemirror_mode": {
    "name": "ipython",
    "version": 3
   },
   "file_extension": ".py",
   "mimetype": "text/x-python",
   "name": "python",
   "nbconvert_exporter": "python",
   "pygments_lexer": "ipython3",
   "version": "3.10.11"
  }
 },
 "nbformat": 4,
 "nbformat_minor": 5
}
